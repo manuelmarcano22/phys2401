{
 "cells": [
  {
   "cell_type": "code",
   "execution_count": 1,
   "metadata": {
    "collapsed": false,
    "slideshow": {
     "slide_type": "slide"
    }
   },
   "outputs": [
    {
     "data": {
      "text/html": [
       "<script>\n",
       "    var code_show=true; //true -> hide code at first\n",
       "\n",
       "    function code_toggle() {\n",
       "        $('div.prompt').hide(); // always hide prompt\n",
       "\n",
       "        if (code_show){\n",
       "            $('div.input').hide();\n",
       "        } else {\n",
       "            $('div.input').show();\n",
       "        }\n",
       "        code_show = !code_show\n",
       "    }\n",
       "    $( document ).ready(code_toggle);\n",
       "</script>"
      ],
      "text/plain": [
       "<IPython.core.display.HTML object>"
      ]
     },
     "execution_count": 1,
     "metadata": {},
     "output_type": "execute_result"
    }
   ],
   "source": [
    "from IPython.display import HTML\n",
    "HTML('''<script>\n",
    "    var code_show=true; //true -> hide code at first\n",
    "\n",
    "    function code_toggle() {\n",
    "        $('div.prompt').hide(); // always hide prompt\n",
    "\n",
    "        if (code_show){\n",
    "            $('div.input').hide();\n",
    "        } else {\n",
    "            $('div.input').show();\n",
    "        }\n",
    "        code_show = !code_show\n",
    "    }\n",
    "    $( document ).ready(code_toggle);\n",
    "</script>''')"
   ]
  },
  {
   "cell_type": "markdown",
   "metadata": {
    "collapsed": true,
    "slideshow": {
     "slide_type": "slide"
    }
   },
   "source": [
    "# Physics 2401 Recitation\n",
    "\n",
    "## Manuel Pichardo Marcano\n",
    "- manuel.pichardo-marcano@ttu.edu\n",
    "\n",
    "- http://manuelpm.me/phys2401/#/"
   ]
  },
  {
   "cell_type": "markdown",
   "metadata": {
    "slideshow": {
     "slide_type": "slide"
    }
   },
   "source": [
    "## Reflection and Refraction of Light\n",
    "\n",
    "- Law of reflection: $\\theta _i  = \\theta _r$\n",
    "- Law of Refraction: $n_1 \\sin \\theta _1 = n_2 \\sin \\theta _2$"
   ]
  },
  {
   "cell_type": "markdown",
   "metadata": {
    "slideshow": {
     "slide_type": "subslide"
    }
   },
   "source": [
    "As the angle of incidence is increased for a ray incident on a reflecting surface, the angle between the incident and reflected rays ultimately approaches what value?\n",
    "\n",
    "1. zero\n",
    "2. $45 ^\\circ$\n",
    "3. $90 ^\\circ$\n",
    "4. $180 ^\\circ$"
   ]
  },
  {
   "cell_type": "markdown",
   "metadata": {
    "slideshow": {
     "slide_type": "subslide"
    }
   },
   "source": [
    "Three materials with $n_1 < n_2 < n_3$ are arranged in layers of uniform thickness. A light ray in air enters the first layer at an angle of incidence of 30° and the ray eventually exits the third layer at the refracted angle θ in air. What is the value of θ?\n",
    "\n",
    "1. Some angle less than $30 ^\\circ$\n",
    "2. $30 ^ \\circ$\n",
    "3. Some angle more than $30 ^ \\circ$\n",
    "4. Insufficient information to answer"
   ]
  },
  {
   "cell_type": "markdown",
   "metadata": {
    "slideshow": {
     "slide_type": "subslide"
    }
   },
   "source": [
    "## Example in text book\n",
    "\n",
    "$\\theta _ 3 = \\theta _1$ and the slab does not alter the direction of the beam. It does, however, offset the beam parallel to itself by the distance d.\n",
    "\n",
    "![](refra1.png)"
   ]
  },
  {
   "cell_type": "markdown",
   "metadata": {
    "slideshow": {
     "slide_type": "subslide"
    }
   },
   "source": [
    "\n",
    "What if the thickness t of the slab is doubled? Does the offset distance d also double?\n",
    "\n"
   ]
  },
  {
   "cell_type": "markdown",
   "metadata": {
    "slideshow": {
     "slide_type": "subslide"
    }
   },
   "source": [
    "\n",
    "![](refra1.png)\n",
    "\n",
    "For a given incident angle $\\theta _1$, the refracted angle $\\theta_2$ is determined solely by the by the index of refraction, so the offset distance is determine by $t$. If the thickness doubles, so does the offset distance."
   ]
  },
  {
   "cell_type": "markdown",
   "metadata": {
    "slideshow": {
     "slide_type": "subslide"
    }
   },
   "source": [
    "Before light can undergo total internal reflection when incident on material 2 from material 1, what must be true of the indices of refraction?\n",
    "\n",
    "1. $n_1 = n_2$\n",
    "2. $n_1 < n_2$\n",
    "3. $n_1 > n_2$\n",
    "4. Either $n_1$ or $n_2$ must be equal to 1. "
   ]
  },
  {
   "cell_type": "markdown",
   "metadata": {
    "slideshow": {
     "slide_type": "subslide"
    }
   },
   "source": [
    "$$ n_1 \\sin \\theta _1 = n_2 \\sin \\theta _2 $$\n",
    "\n",
    "And for total internal refraction to occur, $\\theta _ 2 > 90 ^ \\circ > \\theta _1 $"
   ]
  },
  {
   "cell_type": "markdown",
   "metadata": {
    "slideshow": {
     "slide_type": "slide"
    }
   },
   "source": [
    "## Chapter 31: Induced emf and Magnetic Flux"
   ]
  },
  {
   "cell_type": "markdown",
   "metadata": {
    "slideshow": {
     "slide_type": "fragment"
    }
   },
   "source": [
    "$$ \\mathcal{E} = - \\frac{d\\Phi _B}{dt}  $$"
   ]
  },
  {
   "cell_type": "markdown",
   "metadata": {
    "slideshow": {
     "slide_type": "fragment"
    }
   },
   "source": [
    "$$ \\Phi _B = \\int \\vec B \\cdot d \\vec A $$"
   ]
  },
  {
   "cell_type": "markdown",
   "metadata": {
    "slideshow": {
     "slide_type": "subslide"
    }
   },
   "source": [
    "### Multiple Choice\n",
    "\n",
    "The units $\\text{T}\\cdot \\text{m}^2 /\\text{s}$ are equivalent to:\n",
    "1. W\n",
    "2. V\n",
    "3. N/m\n",
    "4. webers"
   ]
  },
  {
   "cell_type": "markdown",
   "metadata": {
    "slideshow": {
     "slide_type": "subslide"
    }
   },
   "source": [
    "### Conceptual questions\n",
    "\n",
    "A bar magnet is falling through a loop of wire with constant velocity. The north pole enters first. As the south pole leaves the loop of wire, the induced current (as viewed from above) will be:\n",
    "\n",
    "1. clockwise\n",
    "2. counterclockwise.\n",
    "3. with no acceleration, the induced current is zero.\n",
    "4. along the length of the magnet.\n"
   ]
  },
  {
   "cell_type": "markdown",
   "metadata": {
    "slideshow": {
     "slide_type": "subslide"
    }
   },
   "source": [
    "### Conceptual questions\n",
    "\n",
    "A bar magnet is falling through a loop of wire with constant velocity. The north pole enters first. As the south pole leaves the loop of wire, the induced current (as viewed from above) will be:\n",
    "\n",
    "1. clockwise\n",
    "2. **counterclockwise.**\n",
    "3. with no acceleration, the induced current is zero.\n",
    "4. along the length of the magnet.\n"
   ]
  },
  {
   "cell_type": "markdown",
   "metadata": {
    "slideshow": {
     "slide_type": "subslide"
    }
   },
   "source": [
    "### Conceptual question:\n",
    "\n",
    "Two loops of wire are arranged so that a changing current in one will induce a current in the other. If the current in the first is increasing clockwise by 1.0 A every second, the induced current in the second loop will:\n",
    "\n",
    "1. be increasing counterclockwise.\n",
    "2. stay constant\n",
    "3. increase clockwise also\n",
    "4. stay zero"
   ]
  },
  {
   "cell_type": "markdown",
   "metadata": {
    "slideshow": {
     "slide_type": "fragment"
    }
   },
   "source": [
    "## Hint: Think second derivative. "
   ]
  },
  {
   "cell_type": "markdown",
   "metadata": {
    "slideshow": {
     "slide_type": "subslide"
    }
   },
   "source": [
    "The situations below show eight rectangular wire loops that are moving to the right into, within or out of, region in which there is uniform magnetic field coming out of the page. The rectangular loops are the same size (5 x 10) and are being pushed to the right at a constant velocity. **Rank these situations, from greatest to least, on the basis of the induced current in the rectangular loops at the time and positions shown (assume there is no effect between the loops).**\n",
    "\n",
    "\n",
    "![](faraday.png)\n"
   ]
  },
  {
   "cell_type": "markdown",
   "metadata": {
    "slideshow": {
     "slide_type": "fragment"
    }
   },
   "source": [
    "$$F > A = C =G > B = D =E =H$$"
   ]
  },
  {
   "cell_type": "markdown",
   "metadata": {
    "slideshow": {
     "slide_type": "slide"
    }
   },
   "source": [
    "# $\\vec E$ field review"
   ]
  },
  {
   "cell_type": "markdown",
   "metadata": {
    "slideshow": {
     "slide_type": "subslide"
    }
   },
   "source": [
    "## Review\n",
    "\n",
    "Four carges are at the corners of a square, with B and C on opposite cornes. Charges A and D, on the other two corners, ahve equal charge, while both B and C have a charge of $+1 $C. What is the charge on A so that the force on B is zero?\n",
    "\n",
    "<img src=\"c1.png\" alt=\"Drawing\" style=\"width: 200px;\"/>\n",
    "\n",
    "1. $-1 $ C\n",
    "2. $-0.5 $C\n",
    "3. $-0.35$ C\n",
    "4. $-0.71$ C"
   ]
  },
  {
   "cell_type": "markdown",
   "metadata": {
    "slideshow": {
     "slide_type": "subslide"
    }
   },
   "source": [
    "$$ F \\propto \\sin 45 ^\\circ \\propto r ^ {-2}$$\n",
    "$$ F \\propto \\frac{\\sqrt 2 } {2} \\cdot \\frac{1}{\\sqrt{2}^2} \\propto \\frac{1.4} {4} $$"
   ]
  },
  {
   "cell_type": "markdown",
   "metadata": {
    "slideshow": {
     "slide_type": "subslide"
    }
   },
   "source": [
    "## Review\n",
    "\n",
    "A charge of $+ 2$ C is at the origin. When charge Q is placed at 2 m along the positive x axis, the electric field at 2 m along the negative x axis becomes zero. What is the value of Q?\n",
    "\n",
    "<img src=\"c2.png\" alt=\"Drawing\" style=\"width: 200px;\"/>\n",
    "\n",
    "1. $-3 $ C\n",
    "2. $-6 $ C\n",
    "3. $-7.35$ C\n",
    "4. $-8$ C"
   ]
  },
  {
   "cell_type": "markdown",
   "metadata": {
    "slideshow": {
     "slide_type": "subslide"
    }
   },
   "source": [
    "$$ F \\propto \\frac{1}{r^2} $$\n",
    "\n",
    "A charge at twice the distance. Q has to be $2^2$ times bigger. So $2 x 4 = 8$ C"
   ]
  },
  {
   "cell_type": "markdown",
   "metadata": {
    "slideshow": {
     "slide_type": "subslide"
    }
   },
   "source": [
    "## Review\n",
    "\n",
    "A spherical surface surrounds a point charge it its center. If the charge is doubled and if the radius of the surface is also doubled, what happens to the electric flux $\\Phi _E$  out of the surface and the magnitude E of the electric field at the surface as a result of these doublings?\n",
    "\n",
    "1. $\\Phi _E$ and E do not change\n",
    "2. $\\Phi _E$ increases and E remains the same\n",
    "3. $\\Phi _E$ increases and E decreases\n",
    "4. $\\Phi _E$ increases and E increases\n",
    "\n"
   ]
  },
  {
   "cell_type": "markdown",
   "metadata": {
    "slideshow": {
     "slide_type": "subslide"
    }
   },
   "source": [
    "$$ E \\propto r^{-2} \\propto q$$\n",
    "\n",
    "$$ \\Phi _E \\propto E \\text{ and } A \\text{ so } r^{-2} \\propto r^{2} \\propto {q}  $$"
   ]
  },
  {
   "cell_type": "markdown",
   "metadata": {
    "slideshow": {
     "slide_type": "slide"
    }
   },
   "source": [
    "## Questions?"
   ]
  },
  {
   "cell_type": "markdown",
   "metadata": {
    "slideshow": {
     "slide_type": "slide"
    }
   },
   "source": [
    "# Physics 2401 Recitation\n",
    "\n",
    "## Manuel Pichardo Marcano\n",
    "- manuel.pichardo-marcano@ttu.edu\n",
    "- https://github.com/manuelmarcano22/phys2401"
   ]
  }
 ],
 "metadata": {
  "anaconda-cloud": {},
  "celltoolbar": "Slideshow",
  "kernelspec": {
   "display_name": "Python [default]",
   "language": "python",
   "name": "python3"
  },
  "language_info": {
   "codemirror_mode": {
    "name": "ipython",
    "version": 3
   },
   "file_extension": ".py",
   "mimetype": "text/x-python",
   "name": "python",
   "nbconvert_exporter": "python",
   "pygments_lexer": "ipython3",
   "version": "3.5.2"
  }
 },
 "nbformat": 4,
 "nbformat_minor": 0
}
