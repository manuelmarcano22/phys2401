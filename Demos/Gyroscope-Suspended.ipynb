{
 "cells": [
  {
   "cell_type": "code",
   "execution_count": 1,
   "metadata": {
    "collapsed": false
   },
   "outputs": [
    {
     "data": {
      "application/javascript": [
       "require.undef(\"nbextensions/jquery-ui.custom.min\");"
      ],
      "text/plain": [
       "<IPython.core.display.Javascript object>"
      ]
     },
     "metadata": {},
     "output_type": "display_data"
    },
    {
     "data": {
      "application/javascript": [
       "require.undef(\"nbextensions/glow.2.1.min\");"
      ],
      "text/plain": [
       "<IPython.core.display.Javascript object>"
      ]
     },
     "metadata": {},
     "output_type": "display_data"
    },
    {
     "data": {
      "application/javascript": [
       "require.undef(\"nbextensions/glowcomm\");"
      ],
      "text/plain": [
       "<IPython.core.display.Javascript object>"
      ]
     },
     "metadata": {},
     "output_type": "display_data"
    },
    {
     "data": {
      "application/javascript": [
       "require.undef(\"nbextensions/pako.min\");"
      ],
      "text/plain": [
       "<IPython.core.display.Javascript object>"
      ]
     },
     "metadata": {},
     "output_type": "display_data"
    },
    {
     "data": {
      "application/javascript": [
       "require.undef(\"nbextensions/pako_deflate.min\");"
      ],
      "text/plain": [
       "<IPython.core.display.Javascript object>"
      ]
     },
     "metadata": {},
     "output_type": "display_data"
    },
    {
     "data": {
      "application/javascript": [
       "require.undef(\"nbextensions/pako_inflate.min\");"
      ],
      "text/plain": [
       "<IPython.core.display.Javascript object>"
      ]
     },
     "metadata": {},
     "output_type": "display_data"
    },
    {
     "data": {
      "application/javascript": [
       "require([\"nbextensions/glowcomm\"], function(){console.log(\"glowcomm loaded\");})"
      ],
      "text/plain": [
       "<IPython.core.display.Javascript object>"
      ]
     },
     "metadata": {},
     "output_type": "display_data"
    },
    {
     "data": {
      "text/html": [
       "<div id=\"glowscript\" class=\"glowscript\"></div>"
      ],
      "text/plain": [
       "<IPython.core.display.HTML object>"
      ]
     },
     "metadata": {},
     "output_type": "display_data"
    },
    {
     "data": {
      "application/javascript": [
       "window.__context = { glowscript_container: $(\"#glowscript\").removeAttr(\"id\")}"
      ],
      "text/plain": [
       "<IPython.core.display.Javascript object>"
      ]
     },
     "metadata": {},
     "output_type": "display_data"
    }
   ],
   "source": [
    "from vpython import *\n",
    "\n",
    "# Gyroscope hanging from a spring\n",
    "# Bruce Sherwood\n",
    "\n",
    "scene.title = 'Gyroscope'\n",
    "scene.background = color.gray(0.9)\n",
    "\n",
    "top = vector(0,1,0) # where top of spring is held\n",
    "ks = 100       # spring stiffness\n",
    "Lspring = 1    # unstretched length of spring\n",
    "Rspring = 0.03 # radius of spring\n",
    "Dspring = 0.03 # thickness of spring wire\n",
    "Lshaft = 1     # length of gyroscope shaft\n",
    "Rshaft = 0.03  # radius of gyroscope shaft\n",
    "M = 1          # mass of gyroscope (massless shaft)\n",
    "Rrotor = 0.4   # radius of gyroscope rotor\n",
    "Drotor = 0.1   # thickness of gyroscope rotor\n",
    "omega = 40     # angular speed of rotor around axis\n",
    "Dsquare = 1.4*Drotor # thickness of square that turns with rotor\n",
    "I = 0.5*M*Rrotor**2  # moment of inertia of gyroscope\n",
    "g = 9.8\n",
    "Fgrav = vector(0,-M*g,0)\n",
    "precession = M*g*(Lshaft/2)/(I*abs(omega))  # exact precession angular velocity\n",
    "phi = atan(precession**2*(Lshaft/2)/g)      # approximate angle of spring to vertical\n",
    "s = M*g/(ks*cos(phi))                       # approximate stretch of spring\n",
    "# Refine estimate of angle of spring to vertical:\n",
    "phi = 1/( ((I*abs(omega))/(M*Lshaft/2))**2/(g*Lshaft/2)-(Lspring+s)/(Lshaft/2) )\n",
    "# Refine again:\n",
    "s = M*g/(ks*cos(phi))\n",
    "phi = 1/( ((I*abs(omega))/(M*Lshaft/2))**2/(g*Lshaft/2)-(Lspring+s)/(Lshaft/2) )\n",
    "pprecess = vector(0,-1,M*precession*(Lshaft/2+(Lspring+s)*sin(phi)))\n",
    "# Momentum required for completely smooth precession:\n",
    "##pprecess = vector(0,0,M*precession*(Lshaft/2+(Lspring+s)*sin(phi)))\n",
    "if omega < 0:\n",
    "    pprecess = -pprecess\n",
    "\n",
    "support = box(pos=top+vector(0,0.01,0), size=vector(0.2,0.02,0.2), color=color.green)\n",
    "spring = helix(pos=top, axis=vector(-(Lspring+s)*sin(phi),\n",
    "                                    -(Lspring+s)*cos(phi),0), coils=10, radius=Rspring, \n",
    "                                     thickness=Dspring, color=vector(1,0.7,0.2))\n",
    "gyropos = top+spring.axis \n",
    "gyroaxis = vector(1,0,0)\n",
    "shaft = cylinder(pos=vector(0,0,0), axis=Lshaft*gyroaxis, \n",
    "                 radius=Rshaft, color=color.gray(0.8))\n",
    "rotor = cylinder(pos=0.5*gyroaxis*(Lshaft-Drotor),\n",
    "                 axis=gyroaxis*Drotor, radius=Rrotor, color=color.gray(0.8))\n",
    "\n",
    "stripe1 = box(color=color.black, size=vector(.01,2*Rrotor,.01),\n",
    "                pos=rotor.pos+1.02*rotor.axis)\n",
    "stripe2 = box(color=color.black, size=vector(.01,2*Rrotor,.01),\n",
    "                pos=rotor.pos-0.02*rotor.axis)\n",
    "gyro = compound([shaft,rotor,stripe1,stripe2], \n",
    "                pos=gyropos, axis=gyroaxis)\n",
    "gyro.texture = textures.metal\n",
    "gyro.rotate(axis=vector(0,1,0), angle=pi)\n",
    "\n",
    "# center of mass of shaft\n",
    "cm = gyro.pos+0.5*Lshaft*gyro.axis \n",
    "Lrot = I*omega*gyro.axis\n",
    "p = pprecess\n",
    "dt = 0.01\n",
    "t = 0\n",
    "\n",
    "while True:\n",
    "    rate(50) \n",
    "    Fspring = -ks*norm(spring.axis)*(mag(spring.axis)-Lspring)\n",
    "    # Calculate torque about center of mass:\n",
    "    torque = cross(-0.5*Lshaft*gyro.axis,Fspring)\n",
    "    Lrot = Lrot+torque*dt\n",
    "    p = p+(Fgrav+Fspring)*dt\n",
    "    cm = cm+(p/M)*dt\n",
    "\n",
    "    # Update positions of shaft, rotor, spring, stripes\n",
    "    if omega > 0:\n",
    "        gyro.axis = norm(Lrot)\n",
    "    else:\n",
    "        gyro.axis = -norm(Lrot)\n",
    "    gyro.pos = cm-0.5*Lshaft*gyro.axis # shaft rotated, adjust connection to spring\n",
    "    spring.axis = gyro.pos - top\n",
    "    gyro.rotate(angle=omega*dt/4, axis=gyro.axis) # spin easier to see if slower than actual omega"
   ]
  },
  {
   "cell_type": "code",
   "execution_count": null,
   "metadata": {
    "collapsed": true
   },
   "outputs": [],
   "source": []
  }
 ],
 "metadata": {
  "anaconda-cloud": {},
  "kernelspec": {
   "display_name": "VPython",
   "language": "python",
   "name": "vpython"
  },
  "language_info": {
   "codemirror_mode": {
    "name": "ipython",
    "version": 3
   },
   "file_extension": ".py",
   "mimetype": "text/x-python",
   "name": "python",
   "nbconvert_exporter": "python",
   "pygments_lexer": "ipython3",
   "version": "3.5.1"
  }
 },
 "nbformat": 4,
 "nbformat_minor": 0
}
