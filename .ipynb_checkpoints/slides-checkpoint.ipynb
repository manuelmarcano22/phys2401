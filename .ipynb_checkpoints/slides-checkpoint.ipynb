{
 "cells": [
  {
   "cell_type": "code",
   "execution_count": 21,
   "metadata": {
    "slideshow": {
     "slide_type": "slide"
    }
   },
   "outputs": [
    {
     "data": {
      "text/html": [
       "<script>\n",
       "    var code_show=true; //true -> hide code at first\n",
       "\n",
       "    function code_toggle() {\n",
       "        $('div.prompt').hide(); // always hide prompt\n",
       "\n",
       "        if (code_show){\n",
       "            $('div.input').hide();\n",
       "        } else {\n",
       "            $('div.input').show();\n",
       "        }\n",
       "        code_show = !code_show\n",
       "    }\n",
       "    $( document ).ready(code_toggle);\n",
       "</script>"
      ],
      "text/plain": [
       "<IPython.core.display.HTML object>"
      ]
     },
     "execution_count": 21,
     "metadata": {},
     "output_type": "execute_result"
    }
   ],
   "source": [
    "from IPython.display import HTML\n",
    "HTML('''<script>\n",
    "    var code_show=true; //true -> hide code at first\n",
    "\n",
    "    function code_toggle() {\n",
    "        $('div.prompt').hide(); // always hide prompt\n",
    "\n",
    "        if (code_show){\n",
    "            $('div.input').hide();\n",
    "        } else {\n",
    "            $('div.input').show();\n",
    "        }\n",
    "        code_show = !code_show\n",
    "    }\n",
    "    $( document ).ready(code_toggle);\n",
    "</script>''')"
   ]
  },
  {
   "cell_type": "markdown",
   "metadata": {
    "collapsed": true,
    "slideshow": {
     "slide_type": "slide"
    }
   },
   "source": [
    "# Physics 2401 Recitation\n",
    "\n",
    "## Manuel Pichardo Marcano\n",
    "- manuel.pichardo-marcano@ttu.edu\n",
    "\n",
    "- http://manuelpm.me/phys2401/#/"
   ]
  },
  {
   "cell_type": "markdown",
   "metadata": {
    "slideshow": {
     "slide_type": "slide"
    }
   },
   "source": [
    "# Light"
   ]
  },
  {
   "cell_type": "markdown",
   "metadata": {
    "slideshow": {
     "slide_type": "subslide"
    }
   },
   "source": [
    "- What is light?\n",
    " - Is it a wave? Is it a particle?"
   ]
  },
  {
   "cell_type": "markdown",
   "metadata": {
    "slideshow": {
     "slide_type": "subslide"
    }
   },
   "source": [
    "## In PHYS 2401:\n",
    "\n",
    "\n",
    "\\begin{eqnarray}\n",
    "\\nabla  \\cdot \\vec{E} &=& \\frac{\\rho}{\\epsilon_0} ,&  \\oint \\vec E \\cdot d \\vec a = \\frac{q}{\\epsilon_0}   \\nonumber   \\\\\n",
    "\\nabla  \\cdot \\vec{B} &=& 0 ,& \\oint \\vec B \\cdot d \\vec a = 0   \\\\\n",
    "\\nabla  \\times \\vec{E} &=& - \\frac{\\partial B}{\\partial t} ,& \\oint \\vec E \\cdot d \\vec s = - \\frac{d\\Phi_B}{dt}\\nonumber \\\\\n",
    "\\nabla  \\times \\vec{B} &=& \\mu_{0}\\vec{J} +\n",
    "\\mu_{0}\\epsilon_{0}\\frac{\\partial E}{\\partial t} ,&\\oint \\vec B \\cdot d \\vec s = \\mu_0 i + \\frac{1}{c^2} \\frac{\\partial  }{\\partial t} \\int \\vec E \\cdot d \\vec A \n",
    "\\end{eqnarray}"
   ]
  },
  {
   "cell_type": "markdown",
   "metadata": {
    "slideshow": {
     "slide_type": "subslide"
    }
   },
   "source": [
    "- **It is what you choose it to be**\n",
    "\n",
    "[Extending Wheeler’s delayed-choice experiment to space](http://www.sciencemag.org/news/2017/10/quantum-experiment-space-confirms-reality-what-you-make-it-0)\n",
    "\n",
    "> [...] bounce photons off satellites thousands of kilometers away [...] the photon maintains its dual wave-particle nature until the very end of the experiment, when it is detected. **Science Advances  25 Oct 2017**\n",
    "\n"
   ]
  },
  {
   "cell_type": "markdown",
   "metadata": {
    "slideshow": {
     "slide_type": "subslide"
    }
   },
   "source": [
    "# Chapter 35: Geometric optics or Ray Optics\n",
    "\n",
    "- Today it is a **ray**. The ray model of light:\n",
    "\n",
    "    - Light travels through a transparent material in straight lines called light rays. The speed oflight is $v = c/n$, where n is the index of refraction of the material.\n",
    "\n",
    " - Very good for the study of mirrors, lenses, prisms, and associated optical instruments such as telescopes, cameras, and eyeglasses."
   ]
  },
  {
   "cell_type": "markdown",
   "metadata": {
    "slideshow": {
     "slide_type": "subslide"
    }
   },
   "source": [
    "# Law of Reflection\n",
    "\n",
    "The incident ray, the reflected ray, and the normal all lie in the same plane, and $\\theta'_1 = \\theta _1$\n",
    "\n",
    "![](refle.png)"
   ]
  },
  {
   "cell_type": "markdown",
   "metadata": {
    "slideshow": {
     "slide_type": "subslide"
    }
   },
   "source": [
    "## Stop to think:\n",
    "\n",
    "As the angle of incidence is increased for a ray incident on a reflecting surface, the angle between the incident and reflected rays ultimately approaches what value?\n"
   ]
  },
  {
   "cell_type": "markdown",
   "metadata": {
    "slideshow": {
     "slide_type": "fragment"
    }
   },
   "source": [
    "**180 degrees**"
   ]
  },
  {
   "cell_type": "markdown",
   "metadata": {
    "slideshow": {
     "slide_type": "subslide"
    }
   },
   "source": [
    "How large does a mirror have to be so that a person can see themselves completely in it? Does it depend on how far you are from the mirror? Does it depend on the height of the person?\n"
   ]
  },
  {
   "cell_type": "markdown",
   "metadata": {
    "slideshow": {
     "slide_type": "subslide"
    }
   },
   "source": [
    " If the top of the mirror is hung midway between your eyes and the top of your head.\n",
    "- Seeing yourself completely in a mirror doesn’t depend on the distance you are from the mirror.\n",
    "- The mirror needs to be exactly half as tall as you are.\n",
    "\n",
    "![](mir.png)"
   ]
  },
  {
   "cell_type": "markdown",
   "metadata": {
    "slideshow": {
     "slide_type": "slide"
    }
   },
   "source": [
    "# Snell's Law of Refraction\n",
    "\n",
    "We define the **index of refraction** $n$ as:\n",
    "\n",
    "$$n=\\frac{c}{v_{medium}}$$\n"
   ]
  },
  {
   "cell_type": "markdown",
   "metadata": {
    "slideshow": {
     "slide_type": "subslide"
    }
   },
   "source": [
    "- **$n_1 \\sin \\theta_1 =  n_2 \\sin \\theta _2$**\n",
    "![](refra.png)"
   ]
  },
  {
   "cell_type": "markdown",
   "metadata": {
    "slideshow": {
     "slide_type": "subslide"
    }
   },
   "source": [
    "As a monochromatic light ray is transmitted through an air-to-glass boundary, what happens to the wavelength? Remember that $v = c/n = \\lambda \\, \\nu$, where n is the index of refraction of the material, $\\lambda$ is the wavelength, and $\\nu$ is the frequency. "
   ]
  },
  {
   "cell_type": "markdown",
   "metadata": {
    "slideshow": {
     "slide_type": "fragment"
    }
   },
   "source": [
    "- The wavelenght $\\lambda$ decreases\n",
    "\n",
    "As the speed of light is reduced in the slower medium, the wavelength is shortened proportionately. The frequency is unchanged"
   ]
  },
  {
   "cell_type": "markdown",
   "metadata": {
    "slideshow": {
     "slide_type": "subslide"
    }
   },
   "source": [
    "Monochromatic light hits a piece of glass. What happens to the wavelength in the glass as the index of refraction increases?"
   ]
  },
  {
   "cell_type": "markdown",
   "metadata": {
    "slideshow": {
     "slide_type": "fragment"
    }
   },
   "source": [
    "- The wavelenght $\\lambda$ decreases"
   ]
  },
  {
   "cell_type": "markdown",
   "metadata": {
    "slideshow": {
     "slide_type": "subslide"
    }
   },
   "source": [
    "What is the lowest possible value of the index of refraction?\n",
    "\n",
    "Remember:\n",
    "\n",
    "$$n=\\frac{c}{v_{medium}}$$"
   ]
  },
  {
   "cell_type": "markdown",
   "metadata": {
    "slideshow": {
     "slide_type": "fragment"
    }
   },
   "source": [
    "Since $n=\\frac{c}{v_{medium}}$, the lowest value possible is 1. "
   ]
  },
  {
   "cell_type": "markdown",
   "metadata": {
    "slideshow": {
     "slide_type": "subslide"
    }
   },
   "source": [
    "## Dispersion:\n",
    "\n",
    "![](dispersion.png)"
   ]
  },
  {
   "cell_type": "markdown",
   "metadata": {
    "slideshow": {
     "slide_type": "subslide"
    }
   },
   "source": [
    "A light ray containing both blue and red wavelengths\n",
    "is incident at an angle on a slab of glass. Which of the\n",
    "sketches in Figure OQ35.9 represents the most likely\n",
    "outcome? \n",
    "\n",
    "![](red.png)"
   ]
  },
  {
   "cell_type": "markdown",
   "metadata": {
    "slideshow": {
     "slide_type": "subslide"
    }
   },
   "source": [
    "For any medium, other than vacuum, the index of\n",
    "refraction for red light is slightly lower (closer to 1) than that for blue light. This means that when light goes from vacuum (or air) into glass, the red light deviates from its original direction less than does the blue light\n",
    "![](can.png)"
   ]
  },
  {
   "cell_type": "markdown",
   "metadata": {
    "slideshow": {
     "slide_type": "subslide"
    }
   },
   "source": [
    "Three materials with $n_1 < n_2 < n_3$ are arranged in layers of uniform thickness. A light ray in air enters the first layer at an angle of incidence of 30° and the ray eventually exits the third layer at the refracted angle q in air. What is the value of q?"
   ]
  },
  {
   "cell_type": "markdown",
   "metadata": {
    "slideshow": {
     "slide_type": "subslide"
    }
   },
   "source": [
    "$\\theta_3 =  \\theta_1$ and the slab does not alter the direction of the beam. It does, however, offset the beam parallel to itself by the distance d. \n",
    "![](slab.png)"
   ]
  },
  {
   "cell_type": "markdown",
   "metadata": {
    "slideshow": {
     "slide_type": "subslide"
    }
   },
   "source": [
    "What if the thickness t of the slab is doubled? Does the offset distance d also double?\n",
    "\n",
    "![](slab.png)"
   ]
  },
  {
   "cell_type": "markdown",
   "metadata": {
    "slideshow": {
     "slide_type": "fragment"
    }
   },
   "source": [
    "For a given incident angle $\\theta_1$, the refracted angle $\\theta_2$ is determined solely by the index of refraction, so the offset distance d is proportional to the thickness $t$. **If the thickness doubles, so does the offset distance.**"
   ]
  },
  {
   "cell_type": "markdown",
   "metadata": {
    "slideshow": {
     "slide_type": "subslide"
    }
   },
   "source": [
    "## Mirages\n",
    "\n",
    "A laser beam passing through a nonhomogeneous\n",
    "sugar solution follows a curved path. Explain.\n",
    "\n",
    "![](benl.jpg)"
   ]
  },
  {
   "cell_type": "markdown",
   "metadata": {
    "slideshow": {
     "slide_type": "subslide"
    }
   },
   "source": [
    "Under what conditions is a mirage formed? While\n",
    "driving on a hot day, sometimes you see what appears\n",
    "to be water on the road far ahead. When you arrive\n",
    "at the location of the water, however, the road is perfectly\n",
    "dry. Explain this phenomenon"
   ]
  },
  {
   "cell_type": "markdown",
   "metadata": {
    "slideshow": {
     "slide_type": "fragment"
    }
   },
   "source": [
    "![](miramira.gif)"
   ]
  },
  {
   "cell_type": "markdown",
   "metadata": {
    "slideshow": {
     "slide_type": "slide"
    }
   },
   "source": [
    "- Is there a limit on $\\theta_2$?\n",
    "![](t.png)"
   ]
  },
  {
   "cell_type": "markdown",
   "metadata": {
    "collapsed": true,
    "slideshow": {
     "slide_type": "subslide"
    }
   },
   "source": [
    "$$\\sin \\theta _1 = \\frac{n_2}{n_1} \\sin \\theta_2$$\n",
    "![](criti.png)"
   ]
  },
  {
   "cell_type": "markdown",
   "metadata": {
    "collapsed": true,
    "slideshow": {
     "slide_type": "subslide"
    }
   },
   "source": [
    "The critical angle is:\n",
    "\n",
    "$$ \\sin \\theta_c = \\frac{n_2}{n_1} \\, \\, \\text{(for $n_1 > n_2$)} $$"
   ]
  },
  {
   "cell_type": "markdown",
   "metadata": {
    "collapsed": true,
    "slideshow": {
     "slide_type": "subslide"
    }
   },
   "source": [
    "Before light can undergo total internal reflection when incident on material 2 from material 1, what must be true of the indices of refraction?\n",
    "\n",
    "1. $n_1 = n_2$\n",
    "2. $n_1 < n_2$\n",
    "3. $n_1 > n_2$\n",
    "4. Either $n_1$ or $n_2$ must be equal to 1"
   ]
  },
  {
   "cell_type": "markdown",
   "metadata": {
    "slideshow": {
     "slide_type": "subslide"
    }
   },
   "source": [
    "The critical angle is:\n",
    "\n",
    "$$ \\sin \\theta_c = \\frac{n_2}{n_1} \\, \\, \\text{(for $n_1 > n_2$)} $$"
   ]
  },
  {
   "cell_type": "markdown",
   "metadata": {
    "slideshow": {
     "slide_type": "subslide"
    }
   },
   "source": [
    "A light ray incident on the interface between air and glass can undergo total internal reflection:\n",
    "\n",
    "1. only in the glass.\n",
    "2. only in the air.\n",
    "3. in either the glass or the air.\n",
    "4. in the air only if the index of refraction of the glass is greater than the ."
   ]
  },
  {
   "cell_type": "markdown",
   "metadata": {
    "slideshow": {
     "slide_type": "subslide"
    }
   },
   "source": [
    "A light ray incident on the interface between air and glass can undergo total internal reflection:\n",
    "\n",
    "**1. only in the glass.**\n",
    "\n",
    "$$ \\sin \\theta_c = \\frac{n_2}{n_1} \\, \\, \\text{(for $n_1 > n_2$)} $$"
   ]
  },
  {
   "cell_type": "markdown",
   "metadata": {
    "slideshow": {
     "slide_type": "slide"
    }
   },
   "source": [
    "# Physics 2401 Recitation\n",
    "\n",
    "## Questions?\n",
    "\n",
    "## Manuel Pichardo Marcano\n",
    "- manuel.pichardo-marcano@ttu.edu\n",
    "\n",
    "- http://manuelpm.me/phys2401/#/\n",
    "\n"
   ]
  }
 ],
 "metadata": {
  "anaconda-cloud": {},
  "celltoolbar": "Slideshow",
  "kernelspec": {
   "display_name": "Python 3",
   "language": "python",
   "name": "python3"
  },
  "language_info": {
   "codemirror_mode": {
    "name": "ipython",
    "version": 3
   },
   "file_extension": ".py",
   "mimetype": "text/x-python",
   "name": "python",
   "nbconvert_exporter": "python",
   "pygments_lexer": "ipython3",
   "version": "3.6.1"
  }
 },
 "nbformat": 4,
 "nbformat_minor": 1
}
