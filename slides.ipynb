{
 "cells": [
  {
   "cell_type": "code",
   "execution_count": 1,
   "metadata": {
    "slideshow": {
     "slide_type": "slide"
    }
   },
   "outputs": [
    {
     "data": {
      "text/html": [
       "<script>\n",
       "    var code_show=true; //true -> hide code at first\n",
       "\n",
       "    function code_toggle() {\n",
       "        $('div.prompt').hide(); // always hide prompt\n",
       "\n",
       "        if (code_show){\n",
       "            $('div.input').hide();\n",
       "        } else {\n",
       "            $('div.input').show();\n",
       "        }\n",
       "        code_show = !code_show\n",
       "    }\n",
       "    $( document ).ready(code_toggle);\n",
       "</script>"
      ],
      "text/plain": [
       "<IPython.core.display.HTML object>"
      ]
     },
     "execution_count": 1,
     "metadata": {},
     "output_type": "execute_result"
    }
   ],
   "source": [
    "from IPython.display import HTML\n",
    "HTML('''<script>\n",
    "    var code_show=true; //true -> hide code at first\n",
    "\n",
    "    function code_toggle() {\n",
    "        $('div.prompt').hide(); // always hide prompt\n",
    "\n",
    "        if (code_show){\n",
    "            $('div.input').hide();\n",
    "        } else {\n",
    "            $('div.input').show();\n",
    "        }\n",
    "        code_show = !code_show\n",
    "    }\n",
    "    $( document ).ready(code_toggle);\n",
    "</script>''')"
   ]
  },
  {
   "cell_type": "markdown",
   "metadata": {
    "collapsed": true,
    "slideshow": {
     "slide_type": "slide"
    }
   },
   "source": [
    "# Physics 2401 Recitation\n",
    "\n",
    "## Manuel Pichardo Marcano\n",
    "- manuel.pichardo-marcano@ttu.edu\n",
    "\n",
    "- http://manuelpm.me/phys2401/#/"
   ]
  },
  {
   "cell_type": "markdown",
   "metadata": {
    "slideshow": {
     "slide_type": "slide"
    }
   },
   "source": [
    "# Chapter 24: Gauss's Law\n"
   ]
  },
  {
   "cell_type": "markdown",
   "metadata": {
    "slideshow": {
     "slide_type": "subslide"
    }
   },
   "source": [
    "# Electric flux and charges"
   ]
  },
  {
   "cell_type": "markdown",
   "metadata": {
    "slideshow": {
     "slide_type": "fragment"
    }
   },
   "source": [
    "\n",
    "- Electric Flux: \n",
    "    $$\\Phi _E \\equiv \\int _{\\text{surface}} \\vec E \\cdot d \\vec A \\equiv \\int _{\\text{surface}} \\vec E \\cdot \\hat n \\, dA $$\n",
    "\n"
   ]
  },
  {
   "cell_type": "markdown",
   "metadata": {
    "slideshow": {
     "slide_type": "subslide"
    }
   },
   "source": [
    "**Quick Quiz 24.1**: Suppose a point charge is located at the center of a spherical\n",
    "surface. The electric field at the surface of the sphere and the total flux\n",
    "through the sphere are determined. Now the radius of the sphere is halved. What happens to the flux through the sphere and the magnitude of the electric\n",
    "field at the surface of the sphere? (a) The flux and field both increase.\n",
    "(b) The flux and field both decrease. (c) The flux increases, and the field\n",
    "decreases. (d) The flux decreases, and the field increases. (e) The flux remains\n",
    "the same, and the field increases. (f) The flux decreases, and the field remains\n",
    "the same. "
   ]
  },
  {
   "cell_type": "markdown",
   "metadata": {
    "slideshow": {
     "slide_type": "subslide"
    }
   },
   "source": [
    "**(e)The flux remains the same, and the field increases. **\n",
    "\n",
    "$$ \\Phi \\propto  E \\, A $$\n",
    "$$ E \\propto \\frac{1}{r^2} \\text{  and  } A \\propto r^2$$"
   ]
  },
  {
   "cell_type": "markdown",
   "metadata": {
    "slideshow": {
     "slide_type": "slide"
    }
   },
   "source": [
    "# Gauss's Law"
   ]
  },
  {
   "cell_type": "markdown",
   "metadata": {
    "slideshow": {
     "slide_type": "subslide"
    }
   },
   "source": [
    "**Gauss’s law** says that the net electric flux $\\phi_E$ through any closed gaussian surface is equal to the net charge $q_{in}$ inside the surface divided\n",
    "by $\\epsilon_0$:"
   ]
  },
  {
   "cell_type": "markdown",
   "metadata": {
    "slideshow": {
     "slide_type": "subslide"
    }
   },
   "source": [
    "$$\\Phi_E = \\oint \\vec E \\cdot d \\vec A = \\frac{q_{\\text{in}}}{\\epsilon_0}$$"
   ]
  },
  {
   "cell_type": "markdown",
   "metadata": {
    "slideshow": {
     "slide_type": "slide"
    }
   },
   "source": [
    "**P.18:** . Find the net electric flux through (a) the closed spherical surface in a uniform electric field shown below and (b) the closed cylindrical surface shown in (c) What can you conclude about the charges, if any, inside the cylindrical surface?\n",
    "\n",
    "![](p18.png)"
   ]
  },
  {
   "cell_type": "markdown",
   "metadata": {
    "slideshow": {
     "slide_type": "subslide"
    }
   },
   "source": [
    "### Part a\n",
    "\n",
    "a) **Sphere:** $\\Phi _E =0$. The number of field lines entering the surface equals the number leaving the surface. \n",
    "\n",
    "**Cylinder:** $\\Phi _E = 2 E  A = 2 E  \\pi R^2$. Twice the area"
   ]
  },
  {
   "cell_type": "markdown",
   "metadata": {
    "slideshow": {
     "slide_type": "fragment"
    }
   },
   "source": [
    "**Part B**\n",
    "\n",
    "$$Q_{sphere} =0 $$\n",
    "\n",
    "$$2 E A = \\frac{Q_{in}}{\\epsilon_0}$$\n",
    "\n",
    "so:\n",
    "\n",
    "$$ Q_{cylinder} =  2 E  \\pi R^2 \\epsilon_0$$"
   ]
  },
  {
   "cell_type": "markdown",
   "metadata": {
    "slideshow": {
     "slide_type": "slide"
    }
   },
   "source": [
    "**P.55**: A solid insulating sphere of radius $a = 5.00$ cm carries a net positive charge of $Q = 3.00 \\mu C$ uniformly distributed throughout its volume. Concentric with this sphere is a conducting spherical shell with inner radius $b = 10.0$ cm and outer radius $c = 15.0$ cm as shown below having net charge $q = 21.00 \\mu C$. Prepare a graph of the magnitude of the electric field due to this configuration versus $r$ for $0 < r < 25.0 $cm.\n",
    "\n",
    "![](p55.png)"
   ]
  },
  {
   "cell_type": "markdown",
   "metadata": {
    "slideshow": {
     "slide_type": "subslide"
    }
   },
   "source": []
  },
  {
   "cell_type": "markdown",
   "metadata": {
    "slideshow": {
     "slide_type": "subslide"
    }
   },
   "source": [
    "## Region $r<a$\n",
    "\n",
    " Draw gaussian surface $r<a$:\n",
    " \n",
    " $$ \\rho = \\frac{Q_{total}}{V_{total}} = \\frac{Q_{gaussian}}{V_{gaussian}}$$\n",
    " $$\\frac{Q}{\\frac{4}{3}\\pi a^3} =\\frac{Q_{in}}{\\frac{4}{3}\\pi r^3}  $$\n",
    " \n",
    "Apply Gauss's law:\n",
    "\n",
    "$$\\oint \\vec E \\cdot d \\vec A = E(4 \\pi r^2) = \\frac{Q_{in}}{\\epsilon_0}   $$\n",
    "\n",
    "$$ \\vec E = \\frac{Q r}{4 \\pi a^3 \\epsilon_0 } \\hat r $$"
   ]
  },
  {
   "cell_type": "markdown",
   "metadata": {
    "slideshow": {
     "slide_type": "subslide"
    }
   },
   "source": [
    "## Region $b > r > a$\n",
    "\n",
    "- Gauss's Law:\n",
    "\n",
    "$$\\oint \\vec E \\cdot d \\vec A = E(4 \\pi r^2) = \\frac{Q_{in}}{\\epsilon_0}   $$\n",
    "\n",
    "$$ \\vec E = \\frac{Q_{insulator}}{4 \\pi \\epsilon _0 r^2} \\hat r $$\n"
   ]
  },
  {
   "cell_type": "markdown",
   "metadata": {
    "slideshow": {
     "slide_type": "subslide"
    }
   },
   "source": [
    "## Region $c > r > b$\n",
    "\n",
    "A conductor in electrostatic equilibrium has the following property: 1. The **electric field is zero** everywhere inside the conductor, whether\n",
    "the conductor is solid or hollow.\n"
   ]
  },
  {
   "cell_type": "markdown",
   "metadata": {
    "slideshow": {
     "slide_type": "subslide"
    }
   },
   "source": [
    "## Region $ r > c$\n",
    "\n",
    "- Gauss's Law:\n",
    "\n",
    "$$\\oint \\vec E \\cdot d \\vec A = E(4 \\pi r^2) = \\frac{Q_{in}}{\\epsilon_0}   $$\n",
    "\n",
    "$$ \\vec E = \\frac{Q_{insulator}- Q_{conductor}}{4 \\pi \\epsilon _0 r^2} \\hat r $$"
   ]
  },
  {
   "cell_type": "markdown",
   "metadata": {
    "slideshow": {
     "slide_type": "subslide"
    }
   },
   "source": [
    "![](p552.png)"
   ]
  },
  {
   "cell_type": "markdown",
   "metadata": {
    "slideshow": {
     "slide_type": "slide"
    }
   },
   "source": [
    "# Physics 2401 Recitation\n",
    "\n",
    "## Questions?\n",
    "\n",
    "## Manuel Pichardo Marcano\n",
    "- manuel.pichardo-marcano@ttu.edu\n",
    "\n",
    "- http://manuelpm.me/phys2401/#/\n",
    "\n"
   ]
  }
 ],
 "metadata": {
  "anaconda-cloud": {},
  "celltoolbar": "Slideshow",
  "kernelspec": {
   "display_name": "Python 3",
   "language": "python",
   "name": "python3"
  },
  "language_info": {
   "codemirror_mode": {
    "name": "ipython",
    "version": 3
   },
   "file_extension": ".py",
   "mimetype": "text/x-python",
   "name": "python",
   "nbconvert_exporter": "python",
   "pygments_lexer": "ipython3",
   "version": "3.6.1"
  }
 },
 "nbformat": 4,
 "nbformat_minor": 1
}
