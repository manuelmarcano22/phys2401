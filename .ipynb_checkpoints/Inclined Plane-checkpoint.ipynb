{
 "cells": [
  {
   "cell_type": "code",
   "execution_count": 1,
   "metadata": {
    "collapsed": false
   },
   "outputs": [
    {
     "data": {
      "application/javascript": [
       "require.undef(\"nbextensions/jquery-ui.custom.min\");"
      ],
      "text/plain": [
       "<IPython.core.display.Javascript object>"
      ]
     },
     "metadata": {},
     "output_type": "display_data"
    },
    {
     "data": {
      "application/javascript": [
       "require.undef(\"nbextensions/glow.2.1a.min\");"
      ],
      "text/plain": [
       "<IPython.core.display.Javascript object>"
      ]
     },
     "metadata": {},
     "output_type": "display_data"
    },
    {
     "data": {
      "application/javascript": [
       "require.undef(\"nbextensions/glow.2.1b.min\");"
      ],
      "text/plain": [
       "<IPython.core.display.Javascript object>"
      ]
     },
     "metadata": {},
     "output_type": "display_data"
    },
    {
     "data": {
      "application/javascript": [
       "require.undef(\"nbextensions/glowcomm\");"
      ],
      "text/plain": [
       "<IPython.core.display.Javascript object>"
      ]
     },
     "metadata": {},
     "output_type": "display_data"
    },
    {
     "data": {
      "application/javascript": [
       "require([\"nbextensions/glowcomm\"], function(){console.log(\"glowcomm loaded\");})"
      ],
      "text/plain": [
       "<IPython.core.display.Javascript object>"
      ]
     },
     "metadata": {},
     "output_type": "display_data"
    },
    {
     "data": {
      "text/html": [
       "<div id=\"glowscript\" class=\"glowscript\"></div>"
      ],
      "text/plain": [
       "<IPython.core.display.HTML object>"
      ]
     },
     "metadata": {},
     "output_type": "display_data"
    },
    {
     "data": {
      "application/javascript": [
       "window.__context = { glowscript_container: $(\"#glowscript\").removeAttr(\"id\")}"
      ],
      "text/plain": [
       "<IPython.core.display.Javascript object>"
      ]
     },
     "metadata": {},
     "output_type": "display_data"
    },
    {
     "name": "stdout",
     "output_type": "stream",
     "text": [
      "<-0.034641, 0.020000, 0.080000>\n"
     ]
    }
   ],
   "source": [
    "from vpython import *\n",
    "# Set window title\n",
    "scene.title = \"Incline Plane\"\n",
    "\n",
    "# Make scene background black\n",
    "scene.background = color.black\n",
    "scene.center = vec(0.7, 0.5, 0) # location at which the camera looks\n",
    "\n",
    "# Define scene objects (units are in meters)\n",
    "\n",
    "# 1.4-m long inclined plane whose center is at 0.7 m\n",
    "inclinedPlane = box(pos = vector(0.7, 0, 0), size = vec(1.4, 0.02, 0.2),\n",
    "    color = color.green, opacity = 0.3)\n",
    "\n",
    "# 20-cm long cart on the inclined plane\n",
    "cart = box(size = vec(0.2, 0.06, 0.06), color = color.blue)\n",
    "\n",
    "\n",
    "# Set up trail to mark the cart's trajectory\n",
    "trail = curve(color = color.yellow, radius = 0.01) # units are in meters\n",
    "\n",
    "### SETUP PARAMETERS AND INITIAL CONDITIONS\n",
    "# Define parameters\n",
    "cart.m = 10.5 # mass of cart in kg\n",
    "\n",
    "# initial position of the cart in(x, y, z) form, units are in meters\n",
    "#   cart is positioned on the inclined plane at the far left end\n",
    "cart.pos = vector(0, 0.04, 0.08)\n",
    "\n",
    "cart.v = vector(0, 0, 0) # initial velocity of car in (vx, vy, vz) form, units are m/s\n",
    "\n",
    "# angle of inclined plane relative to the horizontal\n",
    "theta = 60.0 * (np.pi / 180.0)\n",
    "\n",
    "# rotate the cart and the inclined plane based on the specified angle (counterclockwise)\n",
    "inclinedPlane.rotate(angle = theta, origin = vec(0, 0, 0), axis = vec(0,0,1))\n",
    "cart.rotate(angle = theta, origin = vec(0, 0, 0), axis = vec(0,0,1))\n",
    "\n",
    "# set the initial velocity up the ramp; units are m/s\n",
    "cart.v = norm(inclinedPlane.axis)\n",
    "cart.v.mag = 5\n",
    "\n",
    "g = 9.8 # acceleration due to gravity; units are m/s/s\n",
    "mu = 0.50 # coefficient of friction between cart and plane\n",
    "\n",
    "\n",
    "# Define time parameters\n",
    "t = 0 # starting time\n",
    "deltat = 0.0005  # time step units are s\n",
    "\n",
    "print(cart.pos)\n",
    "while cart.pos.y > 0.003 :  # while the cart's y-position is greater than 0 (above the ground)\n",
    " \n",
    "    # Required to make animation visible / refresh smoothly (keeps program from running faster\n",
    "    #    than 1000 frames/s)\n",
    "    rate(1000)    \n",
    "\n",
    "    # Compute Net Force \n",
    "    # set the direction of the net force along the inclined plane\n",
    "    Fnet = norm(inclinedPlane.axis)\n",
    "    # set the magnitude to the component of the gravitational force parallel to the inclined plane\n",
    "    Fnet.mag = -(cart.m * g * np.sin(theta))\n",
    "    \n",
    "    if cart.v.y > 0:\n",
    "        Fnet.mag += (mu * cart.m * g * cos(theta))\n",
    "    else:\n",
    "        Fnet.mag -= (mu * cart.m * g * cos(theta))\n",
    "\n",
    "    # Newton's 2nd Law \n",
    "    cart.v = cart.v + (Fnet/cart.m * deltat)\n",
    "\n",
    "    # Position update \n",
    "    cart.pos = cart.pos + cart.v * deltat\n",
    "\n",
    "    # Update motion map, graph, timer, and trail\n",
    "    trail.append(pos = cart.pos)"
   ]
  },
  {
   "cell_type": "code",
   "execution_count": 1,
   "metadata": {
    "collapsed": false
   },
   "outputs": [
    {
     "name": "stdout",
     "output_type": "stream",
     "text": [
      "ERROR! Session/line number was not unique in database. History logging moved to new session 181\n"
     ]
    },
    {
     "ename": "NameError",
     "evalue": "name 'cart' is not defined",
     "output_type": "error",
     "traceback": [
      "\u001b[0;31m---------------------------------------------------------------------------\u001b[0m",
      "\u001b[0;31mNameError\u001b[0m                                 Traceback (most recent call last)",
      "\u001b[0;32m<ipython-input-1-244a55a09d33>\u001b[0m in \u001b[0;36m<module>\u001b[0;34m()\u001b[0m\n\u001b[0;32m----> 1\u001b[0;31m \u001b[0mcart\u001b[0m\u001b[0;34m.\u001b[0m\u001b[0mv\u001b[0m\u001b[0;34m\u001b[0m\u001b[0m\n\u001b[0m",
      "\u001b[0;31mNameError\u001b[0m: name 'cart' is not defined"
     ]
    }
   ],
   "source": [
    "cart."
   ]
  },
  {
   "cell_type": "code",
   "execution_count": null,
   "metadata": {
    "collapsed": true
   },
   "outputs": [],
   "source": []
  }
 ],
 "metadata": {
  "kernelspec": {
   "display_name": "VPython",
   "language": "python",
   "name": "vpython"
  },
  "language_info": {
   "codemirror_mode": {
    "name": "ipython",
    "version": 3
   },
   "file_extension": ".py",
   "mimetype": "text/x-python",
   "name": "python",
   "nbconvert_exporter": "python",
   "pygments_lexer": "ipython3",
   "version": "3.5.2"
  }
 },
 "nbformat": 4,
 "nbformat_minor": 1
}
