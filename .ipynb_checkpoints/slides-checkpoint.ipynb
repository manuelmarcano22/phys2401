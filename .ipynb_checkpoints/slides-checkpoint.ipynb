{
 "cells": [
  {
   "cell_type": "code",
   "execution_count": 1,
   "metadata": {
    "collapsed": false,
    "slideshow": {
     "slide_type": "slide"
    }
   },
   "outputs": [
    {
     "data": {
      "text/html": [
       "<script>\n",
       "    var code_show=true; //true -> hide code at first\n",
       "\n",
       "    function code_toggle() {\n",
       "        $('div.prompt').hide(); // always hide prompt\n",
       "\n",
       "        if (code_show){\n",
       "            $('div.input').hide();\n",
       "        } else {\n",
       "            $('div.input').show();\n",
       "        }\n",
       "        code_show = !code_show\n",
       "    }\n",
       "    $( document ).ready(code_toggle);\n",
       "</script>"
      ],
      "text/plain": [
       "<IPython.core.display.HTML object>"
      ]
     },
     "execution_count": 1,
     "metadata": {},
     "output_type": "execute_result"
    }
   ],
   "source": [
    "from IPython.display import HTML\n",
    "HTML('''<script>\n",
    "    var code_show=true; //true -> hide code at first\n",
    "\n",
    "    function code_toggle() {\n",
    "        $('div.prompt').hide(); // always hide prompt\n",
    "\n",
    "        if (code_show){\n",
    "            $('div.input').hide();\n",
    "        } else {\n",
    "            $('div.input').show();\n",
    "        }\n",
    "        code_show = !code_show\n",
    "    }\n",
    "    $( document ).ready(code_toggle);\n",
    "</script>''')"
   ]
  },
  {
   "cell_type": "markdown",
   "metadata": {
    "collapsed": true,
    "slideshow": {
     "slide_type": "slide"
    }
   },
   "source": [
    "# Physics 2401 Recitation\n",
    "\n",
    "## Manuel Pichardo Marcano\n",
    "- manuel.pichardo-marcano@ttu.edu\n",
    "\n",
    "- http://manuelpm.me/phys2401/#/"
   ]
  },
  {
   "cell_type": "markdown",
   "metadata": {
    "slideshow": {
     "slide_type": "slide"
    }
   },
   "source": [
    "## Chapter 25-27\n",
    "\n",
    "* Electric Potential and Capacitors\n",
    "* Current and Circuits\n"
   ]
  },
  {
   "cell_type": "markdown",
   "metadata": {
    "slideshow": {
     "slide_type": "subslide"
    }
   },
   "source": [
    "In a certain region of space, the electric field is zero.\n",
    "From this fact, what can you conclude about the elec-\n",
    "tric potential in this region?\n",
    "\n",
    "1. It is zero\n",
    "2. It does not vary with position\n",
    "3. It is positive\n",
    "4. It is negative\n",
    "5. None of those answer is necessarily true"
   ]
  },
  {
   "cell_type": "markdown",
   "metadata": {
    "slideshow": {
     "slide_type": "subslide"
    }
   },
   "source": [
    "** It does not vary with position**\n",
    "\n",
    "$$ \\vec E =  - \\vec \\nabla V$$\n",
    "\n",
    "so if \n",
    "$$E_x = 0 = \\frac{d V}{d x} =0 $$"
   ]
  },
  {
   "cell_type": "markdown",
   "metadata": {
    "slideshow": {
     "slide_type": "subslide"
    }
   },
   "source": [
    "The unit of capacitance, the farad, is dimensionally equivalent to which of the following?\n",
    "\n",
    "1. V/C\n",
    "2. V $\\cdot$ C\n",
    "3. J/V\n",
    "4. C/V"
   ]
  },
  {
   "cell_type": "markdown",
   "metadata": {
    "slideshow": {
     "slide_type": "subslide"
    }
   },
   "source": [
    "$$C \\equiv \\frac{Q}{V}$$\n",
    "\n",
    "The capacitance depends only on the geometry of the conductors and\n",
    "not on an external source of charge or potential difference"
   ]
  },
  {
   "cell_type": "markdown",
   "metadata": {
    "slideshow": {
     "slide_type": "subslide"
    }
   },
   "source": [
    "A fully charged parallel-plate capacitor remains connected to a battery while you slide a dielectric between the plates. Do the following quantities (a) increase, (b) decrease, or (c) stay the same? \n",
    "\n",
    "1. C\n",
    "2. Q\n",
    "3. V\n",
    "4. Energy stored in the capacitor"
   ]
  },
  {
   "cell_type": "markdown",
   "metadata": {
    "slideshow": {
     "slide_type": "subslide"
    }
   },
   "source": [
    "A fully charged parallel-plate capacitor remains connected to a battery while you slide a dielectric between the plates. Do the following quantities (a) increase, (b) decrease, or (c) stay the same? \n",
    "\n",
    "1. C. **Increases**. $C = \\kappa \\, C_0$\n",
    "2. Q. **Increases**. C increases and V is constant\n",
    "3. V. **Constant**\n",
    "4. Energy stored in the capacitor. **Increases**. $U = \\frac{1}{2}C V^2$"
   ]
  },
  {
   "cell_type": "markdown",
   "metadata": {
    "slideshow": {
     "slide_type": "subslide"
    }
   },
   "source": [
    "An electron and a proton are each released from rest in the same uniform electric field. The electron moves a distance $d_{electron}$ and the proton moves a distance $d_{proton}$ as each particle's kinetic energy increases by 1.6 eV. How do $d_{electron}$ and $d_{proton}$ compare?\n",
    "\n",
    "1. $d_{electron} < d_{proton}$\n",
    "2. $d_{electron} > d_{proton}$\n",
    "3. $d_{electron} = d_{proton}$\n",
    "4. The answer depends on the direction of the electric field. "
   ]
  },
  {
   "cell_type": "markdown",
   "metadata": {
    "slideshow": {
     "slide_type": "subslide"
    }
   },
   "source": [
    "Which process will double the power given off by a resistor?\n",
    "\n",
    "1. doubling the current while doubling the resistance\n",
    "2. doubling the current by making a resistance half as big\n",
    "3. doubling the current by doubling the voltage\n",
    "4. doubling the current while making the voltage half as big\n"
   ]
  },
  {
   "cell_type": "markdown",
   "metadata": {
    "slideshow": {
     "slide_type": "subslide"
    }
   },
   "source": [
    "**doubling the current by making a resistance half as big**\n",
    "\n",
    "$$ P = I \\, V = I^2 R = \\frac{V^2}{R} $$"
   ]
  },
  {
   "cell_type": "markdown",
   "metadata": {
    "slideshow": {
     "slide_type": "subslide"
    }
   },
   "source": [
    "Which is a unit of power?\n",
    "\n",
    "1. kWh\n",
    "2. W/s\n",
    "3. A $\\cdot \\Omega$\n",
    "4. J/s\n",
    "\n"
   ]
  },
  {
   "cell_type": "markdown",
   "metadata": {
    "slideshow": {
     "slide_type": "subslide"
    }
   },
   "source": [
    "A resistor is made of a material that has a resistivity that is proportional to the current going through it. If the voltage across the resistor is doubled, what happens to the power dissipated by it?\n",
    "\n",
    "1. It doubles.\n",
    "2. It quadruples\n",
    "3. It increases by a factor of $2^{3/2}$\n",
    "4. It increases by a factor of $2^{1/2}$\n"
   ]
  },
  {
   "cell_type": "markdown",
   "metadata": {
    "slideshow": {
     "slide_type": "subslide"
    }
   },
   "source": [
    "**It increases by a factor of $2^{3/2}$**\n",
    "\n",
    "$$ R = \\rho \\frac{l}{A}$$\n",
    "If $\\rho \\propto I $\n",
    "$$ V \\propto I^2 \\, \\text{or } I \\propto \\sqrt{V} \\text{ and } P = I^2 R \\propto I^3$$\n",
    "\n",
    "So if V is doubled we get $I = \\sqrt{2} I_0$ and $P \\propto (\\sqrt{2} I)^3$"
   ]
  },
  {
   "cell_type": "markdown",
   "metadata": {
    "slideshow": {
     "slide_type": "subslide"
    }
   },
   "source": [
    "A potential difference of 1.00 V is maintained across a\n",
    "10.0-V resistor for a period of 20.0 s. What total charge\n",
    "passes by a point in one of the wires connected to\n",
    "the resistor in this time interval?\n",
    "\n",
    "1. 200 C\n",
    "2. 20 C\n",
    "3. 2 C\n",
    "4. 0.05C\n"
   ]
  },
  {
   "cell_type": "markdown",
   "metadata": {
    "slideshow": {
     "slide_type": "subslide"
    }
   },
   "source": [
    "**2 C**\n",
    "\n",
    "$$ I = \\frac{dI}{dt}$$\n",
    "\n",
    "$$V = I R = \\frac{Q}{\\Delta t} R$$\n",
    "\n",
    "Solve for Q\n"
   ]
  },
  {
   "cell_type": "markdown",
   "metadata": {
    "slideshow": {
     "slide_type": "slide"
    }
   },
   "source": [
    "# Magnetism\n",
    "\n",
    "- Practice Right hand rule\n"
   ]
  },
  {
   "cell_type": "markdown",
   "metadata": {
    "slideshow": {
     "slide_type": "subslide"
    }
   },
   "source": [
    "A proton is released such that its initial velocity is from right to left across this page. The proton’s path, however, is deflected in a direction toward the bottom edge of the page due to the presence of a\n",
    "uniform magnetic field. What is the direction of this field?\n",
    "\n",
    "1. Out of the page\n",
    "2. Into the page\n",
    "3. From bottom edge to top edge of the page\n",
    "4. From right to left across the page"
   ]
  },
  {
   "cell_type": "markdown",
   "metadata": {
    "slideshow": {
     "slide_type": "subslide"
    }
   },
   "source": [
    "**into the page**\n",
    "\n",
    "$$ \\vec F \\propto \\vec v \\times \\vec B $$"
   ]
  },
  {
   "cell_type": "markdown",
   "metadata": {
    "slideshow": {
     "slide_type": "subslide"
    }
   },
   "source": [
    "A beam of electrons is sent in the positive x-direction in a region with a uniform magnetic field B in\n",
    "the positive y-direction and a uniform electric field E in the positive z-direction. At which of the following speeds would the electrons be deflected in the positive z-direction?\n",
    "\n",
    "1. $v < E/B$\n",
    "2. $v = E/B$\n",
    "3. $v > E/B$\n",
    "4. There is no speed for which this will happen"
   ]
  },
  {
   "cell_type": "markdown",
   "metadata": {
    "slideshow": {
     "slide_type": "subslide"
    }
   },
   "source": [
    "**There is no speed for which this will happen**\n",
    "\n",
    "It is an electron. "
   ]
  },
  {
   "cell_type": "markdown",
   "metadata": {
    "slideshow": {
     "slide_type": "subslide"
    }
   },
   "source": [
    "Two long, parallel wires carry currents of $I_1= I_0$ and $I_2 = 2 I_0$  in the directions indicated in Figure. (a) In what direction is the magnetic field at \n",
    "\n",
    "<img src=\"biot1.png\" alt=\"Mountain View\" style=\"height:428px;\">\n",
    "\n",
    "1. A point midway between the wires.\n",
    "2. At point P"
   ]
  },
  {
   "cell_type": "markdown",
   "metadata": {
    "slideshow": {
     "slide_type": "slide"
    }
   },
   "source": [
    "## Questions?"
   ]
  },
  {
   "cell_type": "markdown",
   "metadata": {
    "slideshow": {
     "slide_type": "slide"
    }
   },
   "source": [
    "# Physics 2401 Recitation\n",
    "\n",
    "## Manuel Pichardo Marcano\n",
    "- manuel.pichardo-marcano@ttu.edu\n",
    "- https://github.com/manuelmarcano22/phys2401"
   ]
  }
 ],
 "metadata": {
  "anaconda-cloud": {},
  "celltoolbar": "Slideshow",
  "kernelspec": {
   "display_name": "Python [default]",
   "language": "python",
   "name": "python3"
  },
  "language_info": {
   "codemirror_mode": {
    "name": "ipython",
    "version": 3
   },
   "file_extension": ".py",
   "mimetype": "text/x-python",
   "name": "python",
   "nbconvert_exporter": "python",
   "pygments_lexer": "ipython3",
   "version": "3.5.2"
  }
 },
 "nbformat": 4,
 "nbformat_minor": 0
}
