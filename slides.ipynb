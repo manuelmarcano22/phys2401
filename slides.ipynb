{
 "cells": [
  {
   "cell_type": "code",
   "execution_count": 10,
   "metadata": {
    "slideshow": {
     "slide_type": "slide"
    }
   },
   "outputs": [
    {
     "data": {
      "text/html": [
       "<script>\n",
       "    var code_show=true; //true -> hide code at first\n",
       "\n",
       "    function code_toggle() {\n",
       "        $('div.prompt').hide(); // always hide prompt\n",
       "\n",
       "        if (code_show){\n",
       "            $('div.input').hide();\n",
       "        } else {\n",
       "            $('div.input').show();\n",
       "        }\n",
       "        code_show = !code_show\n",
       "    }\n",
       "    $( document ).ready(code_toggle);\n",
       "</script>"
      ],
      "text/plain": [
       "<IPython.core.display.HTML object>"
      ]
     },
     "execution_count": 10,
     "metadata": {},
     "output_type": "execute_result"
    }
   ],
   "source": [
    "from IPython.display import HTML\n",
    "HTML('''<script>\n",
    "    var code_show=true; //true -> hide code at first\n",
    "\n",
    "    function code_toggle() {\n",
    "        $('div.prompt').hide(); // always hide prompt\n",
    "\n",
    "        if (code_show){\n",
    "            $('div.input').hide();\n",
    "        } else {\n",
    "            $('div.input').show();\n",
    "        }\n",
    "        code_show = !code_show\n",
    "    }\n",
    "    $( document ).ready(code_toggle);\n",
    "</script>''')"
   ]
  },
  {
   "cell_type": "markdown",
   "metadata": {
    "collapsed": true,
    "slideshow": {
     "slide_type": "slide"
    }
   },
   "source": [
    "# Physics 2401 Recitation\n",
    "\n",
    "## Manuel Pichardo Marcano\n",
    "- manuel.pichardo-marcano@ttu.edu\n",
    "\n",
    "- http://manuelpm.me/phys2401/#/"
   ]
  },
  {
   "cell_type": "markdown",
   "metadata": {
    "slideshow": {
     "slide_type": "subslide"
    }
   },
   "source": [
    "## Vectors\n",
    "\n",
    "- Representation:\n"
   ]
  },
  {
   "cell_type": "markdown",
   "metadata": {
    "slideshow": {
     "slide_type": "fragment"
    }
   },
   "source": [
    "$$ \\vec A = A_x \\hat x + A_y \\hat y =  A_x \\hat{i} + A_y \\hat j $$\n",
    "\n"
   ]
  },
  {
   "cell_type": "markdown",
   "metadata": {
    "slideshow": {
     "slide_type": "fragment"
    }
   },
   "source": [
    "- Magnitude of a vector"
   ]
  },
  {
   "cell_type": "markdown",
   "metadata": {
    "slideshow": {
     "slide_type": "fragment"
    }
   },
   "source": [
    "$$ | \\vec A | = \\sqrt{A_x ^2 + A_y ^2} $$"
   ]
  },
  {
   "cell_type": "markdown",
   "metadata": {
    "slideshow": {
     "slide_type": "fragment"
    }
   },
   "source": [
    "- Adding vectors: $\\vec C = \\vec A + \\vec B$\n",
    "    "
   ]
  },
  {
   "cell_type": "markdown",
   "metadata": {
    "slideshow": {
     "slide_type": "fragment"
    }
   },
   "source": [
    "$$ \\vec C = (A_x + B_x) \\hat x + (A_y + B_y) \\hat y $$"
   ]
  },
  {
   "cell_type": "markdown",
   "metadata": {
    "slideshow": {
     "slide_type": "fragment"
    }
   },
   "source": [
    "- Multiply vectors:\n",
    "    "
   ]
  },
  {
   "cell_type": "markdown",
   "metadata": {
    "slideshow": {
     "slide_type": "fragment"
    }
   },
   "source": [
    "- Two way of multiplying: \n",
    "$$ \\vec A \\cdot \\vec B \\neq \\vec A \\times \\vec B$$"
   ]
  },
  {
   "cell_type": "markdown",
   "metadata": {
    "slideshow": {
     "slide_type": "slide"
    }
   },
   "source": [
    "# Chapter 23: Electric Field\n"
   ]
  },
  {
   "cell_type": "markdown",
   "metadata": {
    "slideshow": {
     "slide_type": "subslide"
    }
   },
   "source": [
    "# Electric field and forces are vectors\n"
   ]
  },
  {
   "cell_type": "markdown",
   "metadata": {
    "slideshow": {
     "slide_type": "fragment"
    }
   },
   "source": [
    "\n",
    "- Electric Field due to a charge:\n",
    "    $$\\vec E = k_e \\frac{q}{r^2} \\hat r $$\n",
    "\n"
   ]
  },
  {
   "cell_type": "markdown",
   "metadata": {
    "slideshow": {
     "slide_type": "fragment"
    }
   },
   "source": [
    "   - Coulomb's law:\n",
    "    $$ \\vec F_{12} = k_e \\frac{q_1 q_2}{r^2}\\hat r _{12} $$"
   ]
  },
  {
   "cell_type": "markdown",
   "metadata": {
    "slideshow": {
     "slide_type": "fragment"
    }
   },
   "source": [
    "- $\\vec F = q \\vec E$"
   ]
  },
  {
   "cell_type": "markdown",
   "metadata": {
    "slideshow": {
     "slide_type": "subslide"
    }
   },
   "source": [
    "# Superposition\n",
    "\n",
    "The electric field due to a group of point\n",
    "charges can be obtained by using the **superposition\n",
    "principle**. \n",
    "\n",
    "$$\\vec E_i = k_e \\sum _i  \\frac{q_i}{r_i ^2} \\hat r_i  $$"
   ]
  },
  {
   "cell_type": "markdown",
   "metadata": {
    "slideshow": {
     "slide_type": "slide"
    }
   },
   "source": [
    "# Your Turn:"
   ]
  },
  {
   "cell_type": "markdown",
   "metadata": {
    "slideshow": {
     "slide_type": "fragment"
    }
   },
   "source": [
    "**P.13**: Two small beads having positive charges $q_1 = 3q$ and $q_2 = q$ are fixed at the opposite ends of a horizontal insulating rod of length $d = 1.50 m$. The bead with charge $q_1$ is at the origin. A third small, charged bead is free to slide on the rod. (a) At what position x is the third bead in equilibrium? (b) Can the equilibrium be stable? If the middle charge is negative, it will have an unstable equilibrium.  What does that mean?\n",
    "\n",
    "\n",
    "![](13.png)"
   ]
  },
  {
   "cell_type": "markdown",
   "metadata": {
    "slideshow": {
     "slide_type": "subslide"
    }
   },
   "source": [
    "- Equilibrium:"
   ]
  },
  {
   "cell_type": "markdown",
   "metadata": {
    "slideshow": {
     "slide_type": "fragment"
    }
   },
   "source": [
    "$$ \\vec F _{net} = \\vec  F_{13} + \\vec F_{23}  = 0$$"
   ]
  },
  {
   "cell_type": "markdown",
   "metadata": {
    "slideshow": {
     "slide_type": "fragment"
    }
   },
   "source": [
    "$$ \\frac{k_e q_1 q_3}{r_1 ^2} = \\frac{k_e q_2 q_3}{r_2 ^2}$$"
   ]
  },
  {
   "cell_type": "markdown",
   "metadata": {
    "slideshow": {
     "slide_type": "fragment"
    }
   },
   "source": [
    "$$ \\frac{k_e 3 q q_3}{r_1 ^2} = \\frac{k_e q q_3}{r_2 ^2}$$"
   ]
  },
  {
   "cell_type": "markdown",
   "metadata": {},
   "source": [
    "$$\\fbox {$d-x = \\frac{x}{\\sqrt{3}}$} $$"
   ]
  },
  {
   "cell_type": "markdown",
   "metadata": {
    "slideshow": {
     "slide_type": "slide"
    }
   },
   "source": [
    "**P.31:**Three point charges are located on a circular arc (a) What is the total electric field at P, the center of the arc? (b) Find the electric force that would be exerted on a 25.00-nC point charge placed at P.\n",
    "\n",
    "![](31.png)\n",
    "\n",
    "\n",
    "**Hint**: Electric field is a **vector**. Use **superposition** to find $\\vec E_{net}$"
   ]
  },
  {
   "cell_type": "markdown",
   "metadata": {
    "slideshow": {
     "slide_type": "subslide"
    }
   },
   "source": [
    "- $\\vec E$ for top charge:\n",
    "\n",
    "$$\\vec E_{top} = \\frac{k_e q_{top}}{r^2}\\cos (\\theta) \\hat x + \\frac{k_e q_{top}}{r^2}\\sin (\\theta) {(-\\hat y)} $$"
   ]
  },
  {
   "cell_type": "markdown",
   "metadata": {
    "slideshow": {
     "slide_type": "fragment"
    }
   },
   "source": [
    "-  $\\vec E$ for middle neg charge:\n"
   ]
  },
  {
   "cell_type": "markdown",
   "metadata": {
    "slideshow": {
     "slide_type": "fragment"
    }
   },
   "source": [
    "$$\\vec E_{middle} = \\frac{k_e q_{mid}}{r^2} (- \\hat x) + 0 \\hat y  $$"
   ]
  },
  {
   "cell_type": "markdown",
   "metadata": {
    "slideshow": {
     "slide_type": "fragment"
    }
   },
   "source": [
    "- $\\vec E$ bottom charge:\n",
    "\n",
    "$$\\vec E_{top} = \\frac{k_e q_{bot}}{r^2}\\cos (\\theta) \\hat x + \\frac{k_e q_{bot}}{r^2}\\sin (\\theta) {\\hat y} $$"
   ]
  },
  {
   "cell_type": "markdown",
   "metadata": {
    "slideshow": {
     "slide_type": "subslide"
    }
   },
   "source": [
    "$$ \\vec E_{net} = \\vec E _{top} + \\vec E_{middle} + \\vec E_{bot}$$\n",
    "\n",
    "$$ \\vec E_{net} = \\left ( \\frac{k_e q_{top}}{r^2}\\cos (\\theta) - \\frac{k_e q_{mid}}{r^2} + \\frac{k_e q_{bot}}{r^2}\\cos (\\theta) \\right ) \\hat x$$\n",
    "\n",
    "$$ + \\left ( \\frac{k_e q_{top}}{r^2}\\sin (\\theta) + 0 - \\frac{k_e q_{bot}}{r^2}\\sin (\\theta)   \\right ) \\hat y $$"
   ]
  },
  {
   "cell_type": "markdown",
   "metadata": {
    "slideshow": {
     "slide_type": "subslide"
    }
   },
   "source": [
    "What will be the general direction of electric field at point P if the upper positive charge is larger than the lower positive charge? \n",
    "\n",
    "![](31.png)\n"
   ]
  },
  {
   "cell_type": "markdown",
   "metadata": {
    "slideshow": {
     "slide_type": "slide"
    }
   },
   "source": [
    "**P.49**:(a)  Determine the ratio $q_1/q_2$. (b) What are the signs of $q_1$ and $q_2$?\n",
    "\n",
    "![](49.png)"
   ]
  },
  {
   "cell_type": "markdown",
   "metadata": {
    "slideshow": {
     "slide_type": "subslide"
    }
   },
   "source": [
    "The number of lines drawn leaving a positive charge or approaching a negative charge is proportional to the magnitude of the charge.\n",
    "\n",
    "- 6 out of 18 reach $q_1$. Three lines leave $q_2$ per line that reach $q_1$"
   ]
  },
  {
   "cell_type": "markdown",
   "metadata": {
    "slideshow": {
     "slide_type": "slide"
    }
   },
   "source": [
    "# Physics 2401 Recitation\n",
    "\n",
    "## Questions?\n",
    "\n",
    "## Manuel Pichardo Marcano\n",
    "- manuel.pichardo-marcano@ttu.edu\n",
    "\n",
    "- http://manuelpm.me/phys2401/#/\n",
    "\n"
   ]
  }
 ],
 "metadata": {
  "anaconda-cloud": {},
  "celltoolbar": "Slideshow",
  "kernelspec": {
   "display_name": "Python 3",
   "language": "python",
   "name": "python3"
  },
  "language_info": {
   "codemirror_mode": {
    "name": "ipython",
    "version": 3
   },
   "file_extension": ".py",
   "mimetype": "text/x-python",
   "name": "python",
   "nbconvert_exporter": "python",
   "pygments_lexer": "ipython3",
   "version": "3.6.1"
  }
 },
 "nbformat": 4,
 "nbformat_minor": 1
}
