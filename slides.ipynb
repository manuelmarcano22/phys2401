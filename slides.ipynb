{
 "cells": [
  {
   "cell_type": "code",
   "execution_count": 12,
   "metadata": {
    "slideshow": {
     "slide_type": "slide"
    }
   },
   "outputs": [
    {
     "data": {
      "text/html": [
       "<script>\n",
       "    var code_show=true; //true -> hide code at first\n",
       "\n",
       "    function code_toggle() {\n",
       "        $('div.prompt').hide(); // always hide prompt\n",
       "\n",
       "        if (code_show){\n",
       "            $('div.input').hide();\n",
       "        } else {\n",
       "            $('div.input').show();\n",
       "        }\n",
       "        code_show = !code_show\n",
       "    }\n",
       "    $( document ).ready(code_toggle);\n",
       "</script>"
      ],
      "text/plain": [
       "<IPython.core.display.HTML object>"
      ]
     },
     "execution_count": 12,
     "metadata": {},
     "output_type": "execute_result"
    }
   ],
   "source": [
    "from IPython.display import HTML\n",
    "HTML('''<script>\n",
    "    var code_show=true; //true -> hide code at first\n",
    "\n",
    "    function code_toggle() {\n",
    "        $('div.prompt').hide(); // always hide prompt\n",
    "\n",
    "        if (code_show){\n",
    "            $('div.input').hide();\n",
    "        } else {\n",
    "            $('div.input').show();\n",
    "        }\n",
    "        code_show = !code_show\n",
    "    }\n",
    "    $( document ).ready(code_toggle);\n",
    "</script>''')"
   ]
  },
  {
   "cell_type": "markdown",
   "metadata": {
    "collapsed": true,
    "slideshow": {
     "slide_type": "slide"
    }
   },
   "source": [
    "# Physics 2401 Recitation\n",
    "\n",
    "## Manuel Pichardo Marcano\n",
    "- manuel.pichardo-marcano@ttu.edu\n",
    "\n",
    "- http://manuelpm.me/phys2401/#/"
   ]
  },
  {
   "cell_type": "markdown",
   "metadata": {
    "slideshow": {
     "slide_type": "slide"
    }
   },
   "source": [
    "# Image Formation\n",
    "\n",
    "## Chapter 36"
   ]
  },
  {
   "cell_type": "markdown",
   "metadata": {
    "slideshow": {
     "slide_type": "slide"
    }
   },
   "source": [
    "## Real Images\n",
    "\n",
    "A real image is formed when all light rays\n",
    "pass through and diverge from the image point\n",
    "\n",
    "## Virtual Images\n",
    "\n",
    "A virtual image is formed when most if not all of the light rays do not pass through the image point but only appear to diverge from that point"
   ]
  },
  {
   "cell_type": "markdown",
   "metadata": {
    "slideshow": {
     "slide_type": "slide"
    }
   },
   "source": [
    "## Thin Lenses"
   ]
  },
  {
   "cell_type": "markdown",
   "metadata": {
    "slideshow": {
     "slide_type": "subslide"
    }
   },
   "source": [
    "## In PHYS 2401:\n",
    "\n",
    "\n",
    "\\begin{eqnarray}\n",
    "\\nabla  \\cdot \\vec{E} &=& \\frac{\\rho}{\\epsilon_0} ,&  \\oint \\vec E \\cdot d \\vec a = \\frac{q}{\\epsilon_0}   \\nonumber   \\\\\n",
    "\\nabla  \\cdot \\vec{B} &=& 0 ,& \\oint \\vec B \\cdot d \\vec a = 0   \\\\\n",
    "\\nabla  \\times \\vec{E} &=& - \\frac{\\partial B}{\\partial t} ,& \\oint \\vec E \\cdot d \\vec s = - \\frac{d\\Phi_B}{dt}\\nonumber \\\\\n",
    "\\nabla  \\times \\vec{B} &=& \\mu_{0}\\vec{J} +\n",
    "\\mu_{0}\\epsilon_{0}\\frac{\\partial E}{\\partial t} ,&\\oint \\vec B \\cdot d \\vec s = \\mu_0 i + \\frac{1}{c^2} \\frac{\\partial  }{\\partial t} \\int \\vec E \\cdot d \\vec A \n",
    "\\end{eqnarray}"
   ]
  },
  {
   "cell_type": "markdown",
   "metadata": {
    "slideshow": {
     "slide_type": "subslide"
    }
   },
   "source": [
    " - I it a wave? Is it a particle?\n",
    "- **It is what you choose it to be**\n",
    "\n",
    "[Extending Wheeler’s delayed-choice experiment to space](http://www.sciencemag.org/news/2017/10/quantum-experiment-space-confirms-reality-what-you-make-it-0)\n",
    "\n",
    "> [...] bounce photons off satellites thousands of kilometers away [...] the photon maintains its dual wave-particle nature until the very end of the experiment, when it is detected. **Science Advances  25 Oct 2017**\n",
    "\n"
   ]
  },
  {
   "cell_type": "markdown",
   "metadata": {
    "slideshow": {
     "slide_type": "subslide"
    }
   },
   "source": [
    "# Chapter 35: Geometric optics or Ray Optics\n",
    "\n",
    "- Today it is a **ray**. The ray model of light:\n",
    "\n",
    "    - Light travels through a transparent material in straight lines called light rays. The speed oflight is $v = c/n$, where n is the index of refraction of the material.\n",
    "\n",
    " - Very good for the study of mirrors, lenses, prisms, and associated optical instruments such as telescopes, cameras, and eyeglasses."
   ]
  },
  {
   "cell_type": "markdown",
   "metadata": {
    "slideshow": {
     "slide_type": "subslide"
    }
   },
   "source": [
    "# Law of Reflection\n",
    "\n",
    "The incident ray, the reflected ray, and the normal all lie in the same plane, and $\\theta'_1 = \\theta _1$\n",
    "\n",
    "![](refle.png)"
   ]
  },
  {
   "cell_type": "markdown",
   "metadata": {
    "slideshow": {
     "slide_type": "subslide"
    }
   },
   "source": [
    "## Stop to think:\n",
    "\n",
    "As the angle of incidence is increased for a ray incident on a reflecting surface, the angle between the incident and reflected rays ultimately approaches what value?\n"
   ]
  },
  {
   "cell_type": "markdown",
   "metadata": {
    "slideshow": {
     "slide_type": "subslide"
    }
   },
   "source": [
    "As the angle of incidence is increased for a ray incident on a reflecting surface, the angle between the incident and reflected rays ultimately approaches what value?\n",
    "\n",
    "1. zero\n",
    "2. 45 degrees\n",
    "3. 90\n",
    "4. 180\n"
   ]
  },
  {
   "cell_type": "markdown",
   "metadata": {
    "slideshow": {
     "slide_type": "fragment"
    }
   },
   "source": [
    "**180 degrees**"
   ]
  },
  {
   "cell_type": "markdown",
   "metadata": {
    "slideshow": {
     "slide_type": "subslide"
    }
   },
   "source": [
    "To see your full-height image in a wall mirror, the minumum height of the mirror should be:\n",
    "\n",
    "1. at least one-quarter oyur height\n",
    "2. half your height\n",
    "3. the same as your height\n",
    "4. dependent on your distance in front of the mirror"
   ]
  },
  {
   "cell_type": "markdown",
   "metadata": {
    "slideshow": {
     "slide_type": "subslide"
    }
   },
   "source": [
    " If the top of the mirror is hung midway between your eyes and the top of your head.\n",
    "- Seeing yourself completely in a mirror doesn’t depend on the distance you are from the mirror.\n",
    "- The mirror needs to be exactly half as tall as you are.\n",
    "\n",
    "![](mir.png)"
   ]
  },
  {
   "cell_type": "markdown",
   "metadata": {
    "slideshow": {
     "slide_type": "slide"
    }
   },
   "source": [
    "A group of sprinters gather at point P on a parking lot bordering a beach. They must run across the parking lot to a point Q on the beach as quickly as possible. Which path from P to Q takes the least time? You should consider the relative speeds of the sprinters on the hard surface of the parking lot and the loose sand. \n",
    "\n",
    "\n",
    "![](path.png)"
   ]
  },
  {
   "cell_type": "markdown",
   "metadata": {
    "slideshow": {
     "slide_type": "subslide"
    }
   },
   "source": [
    "This is your typical minimization problem. Light does the same thing.\n",
    "\n",
    "![](path.png)\n",
    "\n"
   ]
  },
  {
   "cell_type": "markdown",
   "metadata": {
    "slideshow": {
     "slide_type": "subslide"
    }
   },
   "source": [
    "Light takes the path from one point to another that is:\n",
    "\n",
    "1. quickest\n",
    "2. shortest\n",
    "3. closest to a straight line\n",
    "4. None of these\n",
    "    \n"
   ]
  },
  {
   "cell_type": "markdown",
   "metadata": {
    "slideshow": {
     "slide_type": "subslide"
    }
   },
   "source": [
    "This is called **Fermant's principle**:\n",
    "\n",
    ">The actual path between two points taken by a beam of light is the one which is traversed in the least time."
   ]
  },
  {
   "cell_type": "markdown",
   "metadata": {
    "slideshow": {
     "slide_type": "slide"
    }
   },
   "source": [
    "# Snell's Law of Refraction\n",
    "\n",
    "We define the **index of refraction** $n$ as:\n",
    "\n",
    "$$n=\\frac{c}{v_{medium}}$$\n"
   ]
  },
  {
   "cell_type": "markdown",
   "metadata": {
    "slideshow": {
     "slide_type": "subslide"
    }
   },
   "source": [
    "- **$n_1 \\sin \\theta_1 =  n_2 \\sin \\theta _2$**\n",
    "![](refra.png)"
   ]
  },
  {
   "cell_type": "markdown",
   "metadata": {
    "slideshow": {
     "slide_type": "subslide"
    }
   },
   "source": [
    "As a monochromatic light ray is transmitted through an air-to-glass boundary, what happens to the wavelength? Remember that $v = c/n = \\lambda \\, \\nu$, where n is the index of refraction of the material, $\\lambda$ is the wavelength, and $\\nu$ is the frequency. \n",
    "\n",
    "1. The wavelenght $\\lambda$ increases\n",
    "2. The wavelenght $\\lambda$ decreases\n",
    "3. The wavelenght $\\lambda$ stays the same\n",
    "\n"
   ]
  },
  {
   "cell_type": "markdown",
   "metadata": {
    "slideshow": {
     "slide_type": "fragment"
    }
   },
   "source": [
    "- The wavelenght $\\lambda$ decreases\n",
    "\n",
    "As the speed of light is reduced in the slower medium, the wavelength is shortened proportionately. "
   ]
  },
  {
   "cell_type": "markdown",
   "metadata": {
    "slideshow": {
     "slide_type": "subslide"
    }
   },
   "source": [
    "As a monochromatic light ray is transmitted through an air-to-glass boundary, what happens to the frequency $\\nu$? Remember that $v = c/n = \\lambda \\, \\nu$, where n is the index of refraction of the material, $\\lambda$ is the wavelength, and $\\nu$ is the frequency. \n",
    "\n",
    "1. The wavelenght $\\nu$ increases\n",
    "2. The wavelenght $\\nu$ decreases\n",
    "3. The wavelenght $\\nu$ stays the same\n",
    "\n"
   ]
  },
  {
   "cell_type": "markdown",
   "metadata": {
    "slideshow": {
     "slide_type": "fragment"
    }
   },
   "source": [
    "As the speed of light is reduced in the slower medium, the wavelength is shortened proportionately. **The frequency stays the same.**"
   ]
  },
  {
   "cell_type": "markdown",
   "metadata": {
    "slideshow": {
     "slide_type": "subslide"
    }
   },
   "source": [
    "What is the lowest possible value of the index of refraction?\n",
    "\n",
    "Remember: $n=\\frac{c}{v_{medium}}$\n",
    "\n",
    "1. 0\n",
    "2. 1,\n",
    "3. 0.707.\n",
    "4. $3^{-1/2}$"
   ]
  },
  {
   "cell_type": "markdown",
   "metadata": {
    "slideshow": {
     "slide_type": "fragment"
    }
   },
   "source": [
    "Since $n=\\frac{c}{v_{medium}}$, the lowest value possible is 1. "
   ]
  },
  {
   "cell_type": "markdown",
   "metadata": {
    "slideshow": {
     "slide_type": "subslide"
    }
   },
   "source": [
    "Three materials with $n_1 < n_2 < n_3$ are arranged in layers of uniform thickness. A light ray in air enters the first layer at an angle of incidence of 30° and the ray eventually exits the third layer at the refracted angle q in air. What is the value of q?\n",
    "\n",
    "1. Some angle less thant 30\n",
    "2. 30 degree\n",
    "3. Some angle more than 30\n",
    "4. Insufficuent information to answer"
   ]
  },
  {
   "cell_type": "markdown",
   "metadata": {
    "slideshow": {
     "slide_type": "subslide"
    }
   },
   "source": [
    "$\\theta_3 =  \\theta_1$ and the slab does not alter the direction of the beam. It does, however, offset the beam parallel to itself by the distance d. \n",
    "![](slab.png)"
   ]
  },
  {
   "cell_type": "markdown",
   "metadata": {
    "slideshow": {
     "slide_type": "subslide"
    }
   },
   "source": [
    "What if the thickness t of the slab is doubled? Does the offset distance d also double?\n",
    "\n",
    "![](slab.png)"
   ]
  },
  {
   "cell_type": "markdown",
   "metadata": {
    "slideshow": {
     "slide_type": "subslide"
    }
   },
   "source": [
    "For a given incident angle $\\theta_1$, the refracted angle $\\theta_2$ is determined solely by the index of refraction, so the offset distance d is proportional to the thickness $t$. **If the thickness doubles, so does the offset distance.**"
   ]
  },
  {
   "cell_type": "markdown",
   "metadata": {
    "slideshow": {
     "slide_type": "subslide"
    }
   },
   "source": [
    "To shoot a fish with a gun,\n",
    "should you aim:\n",
    "\n",
    "1. directly at the image\n",
    "2. slightly above\n",
    "3. slightly below?"
   ]
  },
  {
   "cell_type": "markdown",
   "metadata": {
    "slideshow": {
     "slide_type": "subslide"
    }
   },
   "source": [
    "** aim slighlty below**\n",
    "\n",
    "Due to refraction, the image will appear higher than the actual fish, so you have to aim lower to compensate.\n",
    "\n"
   ]
  },
  {
   "cell_type": "markdown",
   "metadata": {
    "slideshow": {
     "slide_type": "subslide"
    }
   },
   "source": [
    "To shoot a fish with a laser gun,\n",
    "should you aim directly at the\n",
    "image, slightly above, or slightly\n",
    "below?\n",
    "\n",
    "1. aim directly at the image\n",
    "2. aim slightly above\n",
    "3. aim slightly below\n"
   ]
  },
  {
   "cell_type": "markdown",
   "metadata": {
    "slideshow": {
     "slide_type": "subslide"
    }
   },
   "source": [
    "The light from the laser beam\n",
    "will also bend when it hits the\n",
    "air-water interface, so aim\n",
    "directly at the fish."
   ]
  },
  {
   "cell_type": "markdown",
   "metadata": {
    "slideshow": {
     "slide_type": "slide"
    }
   },
   "source": [
    "## Dispersion:\n",
    "\n",
    "![](dispersion.png)"
   ]
  },
  {
   "cell_type": "markdown",
   "metadata": {
    "slideshow": {
     "slide_type": "subslide"
    }
   },
   "source": [
    "A light ray containing both blue and red wavelengths\n",
    "is incident at an angle on a slab of glass. Which of the\n",
    "sketches in Figure OQ35.9 represents the most likely\n",
    "outcome? \n",
    "\n",
    "![](red.png)"
   ]
  },
  {
   "cell_type": "markdown",
   "metadata": {
    "slideshow": {
     "slide_type": "subslide"
    }
   },
   "source": [
    "For any medium, other than vacuum, the index of\n",
    "refraction for red light is slightly lower (closer to 1) than that for blue light. This means that when light goes from vacuum (or air) into glass, the red light deviates from its original direction less than does the blue light\n",
    "![](can.png)"
   ]
  },
  {
   "cell_type": "markdown",
   "metadata": {
    "slideshow": {
     "slide_type": "subslide"
    }
   },
   "source": [
    "Jules Verne's in his novel *'Le Rayon Vert'* describes:\n",
    "\n",
    "\"a green which no artist could ever obtain on his palette, a green of which neither the varied tints of vegetation nor the shades of the most limpid sea could ever produce the like! If there is a green in Paradise, it cannot be but of this shade, which most surely is the true green of Hope (Jules Verne's 1882 novel \"Le Rayon Vert\")\n",
    "\n",
    "**What atmospheric phenomenom could he possibly be describing?**\n",
    "\n"
   ]
  },
  {
   "cell_type": "markdown",
   "metadata": {
    "slideshow": {
     "slide_type": "subslide"
    }
   },
   "source": [
    "Hint:\n",
    "    \n",
    "> \"Have you sometimes observed the sun set over the sea? Have you watched it till the upper rim of its disk, skimming the surface of the water, is just about to disappear?\" (Jules Verne's 1882 novel \"Le Rayon Vert\")\n",
    "    \n",
    "    "
   ]
  },
  {
   "cell_type": "markdown",
   "metadata": {
    "slideshow": {
     "slide_type": "subslide"
    }
   },
   "source": [
    "> \"Very likely you have; but did you notice the phenomenon which occurs at the very instant the heavenly body sends forth its last ray, which, if the sky be cloudless, is of unparalleled purity?\"\n",
    "\n",
    "![](g.jpg)"
   ]
  },
  {
   "cell_type": "markdown",
   "metadata": {
    "slideshow": {
     "slide_type": "subslide"
    }
   },
   "source": [
    "![](sunn.png)"
   ]
  },
  {
   "cell_type": "markdown",
   "metadata": {
    "slideshow": {
     "slide_type": "subslide"
    }
   },
   "source": [
    "If atmospheric refraction did not occur, how would the apparent time of sunrise and sunset be changed?\n",
    "\n",
    "1. Both would be later.\n",
    "2. Both would be earlier.\n",
    "3. Sunrise would be later and sunset earlier.\n",
    "4. Sunrise would be earlier and sunset later."
   ]
  },
  {
   "cell_type": "markdown",
   "metadata": {
    "slideshow": {
     "slide_type": "subslide"
    }
   },
   "source": [
    "If atmospheric refraction did not occur, how would the apparent time of sunrise and sunset be changed?\n",
    "\n",
    "1. Both would be later.\n",
    "2. Both would be earlier.\n",
    "3. **Sunrise would be later and sunset earlier.**\n",
    "4. Sunrise would be earlier and sunset later."
   ]
  },
  {
   "cell_type": "markdown",
   "metadata": {
    "slideshow": {
     "slide_type": "subslide"
    }
   },
   "source": [
    "![](mi.png)"
   ]
  },
  {
   "cell_type": "markdown",
   "metadata": {
    "slideshow": {
     "slide_type": "subslide"
    }
   },
   "source": [
    "## Mirages\n",
    "\n",
    "A laser beam passing through a nonhomogeneous\n",
    "sugar solution follows a curved path. Explain.\n",
    "\n",
    "![](benl.jpg)"
   ]
  },
  {
   "cell_type": "markdown",
   "metadata": {
    "slideshow": {
     "slide_type": "subslide"
    }
   },
   "source": [
    "Under what conditions is a mirage formed? While\n",
    "driving on a hot day, sometimes you see what appears\n",
    "to be water on the road far ahead. When you arrive\n",
    "at the location of the water, however, the road is perfectly\n",
    "dry. Explain this phenomenon"
   ]
  },
  {
   "cell_type": "markdown",
   "metadata": {
    "slideshow": {
     "slide_type": "fragment"
    }
   },
   "source": [
    "![](miramira.gif)"
   ]
  },
  {
   "cell_type": "markdown",
   "metadata": {
    "slideshow": {
     "slide_type": "slide"
    }
   },
   "source": [
    "- Is there a limit on $\\theta_2$?\n",
    "![](t.png)"
   ]
  },
  {
   "cell_type": "markdown",
   "metadata": {
    "collapsed": true,
    "slideshow": {
     "slide_type": "subslide"
    }
   },
   "source": [
    "$$\\sin \\theta _1 = \\frac{n_2}{n_1} \\sin \\theta_2$$\n",
    "![](criti.png)"
   ]
  },
  {
   "cell_type": "markdown",
   "metadata": {
    "collapsed": true,
    "slideshow": {
     "slide_type": "subslide"
    }
   },
   "source": [
    "The critical angle is:\n",
    "\n",
    "$$ \\sin \\theta_c = \\frac{n_2}{n_1} \\, \\, \\text{(for $n_1 > n_2$)} $$"
   ]
  },
  {
   "cell_type": "markdown",
   "metadata": {
    "collapsed": true,
    "slideshow": {
     "slide_type": "subslide"
    }
   },
   "source": [
    "Before light can undergo total internal reflection when incident on material 2 from material 1, what must be true of the indices of refraction?\n",
    "\n",
    "1. $n_1 = n_2$\n",
    "2. $n_1 < n_2$\n",
    "3. $n_1 > n_2$\n",
    "4. Either $n_1$ or $n_2$ must be equal to 1"
   ]
  },
  {
   "cell_type": "markdown",
   "metadata": {
    "slideshow": {
     "slide_type": "subslide"
    }
   },
   "source": [
    "The critical angle is:\n",
    "\n",
    "$$ \\sin \\theta_c = \\frac{n_2}{n_1} \\, \\, \\text{(for $n_1 > n_2$)} $$"
   ]
  },
  {
   "cell_type": "markdown",
   "metadata": {
    "slideshow": {
     "slide_type": "subslide"
    }
   },
   "source": [
    "A light ray incident on the interface between air and glass can undergo total internal reflection:\n",
    "\n",
    "1. only in the glass.\n",
    "2. only in the air.\n",
    "3. in either the glass or the air.\n",
    "4. in the air only if the index of refraction of the glass is greater than the ."
   ]
  },
  {
   "cell_type": "markdown",
   "metadata": {
    "slideshow": {
     "slide_type": "subslide"
    }
   },
   "source": [
    "A light ray incident on the interface between air and glass can undergo total internal reflection:\n",
    "\n",
    "**1. only in the glass.**\n",
    "\n",
    "$$ \\sin \\theta_c = \\frac{n_2}{n_1} \\, \\, \\text{(for $n_1 > n_2$)} $$"
   ]
  },
  {
   "cell_type": "markdown",
   "metadata": {
    "slideshow": {
     "slide_type": "slide"
    }
   },
   "source": [
    "# Physics 2401 Recitation\n",
    "\n",
    "## Questions?\n",
    "\n",
    "## Manuel Pichardo Marcano\n",
    "- manuel.pichardo-marcano@ttu.edu\n",
    "\n",
    "- http://manuelpm.me/phys2401/#/\n",
    "\n"
   ]
  }
 ],
 "metadata": {
  "anaconda-cloud": {},
  "celltoolbar": "Slideshow",
  "kernelspec": {
   "display_name": "Python 3",
   "language": "python",
   "name": "python3"
  },
  "language_info": {
   "codemirror_mode": {
    "name": "ipython",
    "version": 3
   },
   "file_extension": ".py",
   "mimetype": "text/x-python",
   "name": "python",
   "nbconvert_exporter": "python",
   "pygments_lexer": "ipython3",
   "version": "3.6.1"
  }
 },
 "nbformat": 4,
 "nbformat_minor": 1
}
